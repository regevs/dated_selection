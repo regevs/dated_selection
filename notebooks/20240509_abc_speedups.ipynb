{
 "cells": [
  {
   "cell_type": "code",
   "execution_count": 1,
   "id": "42a6bacd-4037-4c76-8774-cd97278fd7fa",
   "metadata": {},
   "outputs": [],
   "source": [
    "#%load_ext profila"
   ]
  },
  {
   "cell_type": "code",
   "execution_count": 1,
   "id": "6746e962-1625-46a7-8e50-4903c8891f13",
   "metadata": {
    "tags": []
   },
   "outputs": [],
   "source": [
    "%load_ext autoreload\n",
    "%autoreload 2"
   ]
  },
  {
   "cell_type": "code",
   "execution_count": 2,
   "id": "171d1b40-b4dc-452f-9ae1-b829d3f49e43",
   "metadata": {
    "tags": []
   },
   "outputs": [],
   "source": [
    "import numpy as np\n",
    "import matplotlib.pyplot as plt\n",
    "import itertools\n",
    "import os, subprocess, sys\n",
    "import tqdm\n",
    "from pathlib import Path\n",
    "import glob\n",
    "import joblib\n",
    "import time\n",
    "import numba\n",
    "\n",
    "sys.path.append(str(Path(os.getcwd()).parent))"
   ]
  },
  {
   "cell_type": "code",
   "execution_count": 3,
   "id": "9135f028-77c0-45c1-b6a4-17d345092193",
   "metadata": {
    "tags": []
   },
   "outputs": [],
   "source": [
    "from src import extract_tree_stats, curve_inference, estimators, loader, tests, abc"
   ]
  },
  {
   "cell_type": "markdown",
   "id": "4d1cbe5c-3e82-47a1-a2b8-3a8b7acd2318",
   "metadata": {},
   "source": [
    "# Speedups"
   ]
  },
  {
   "cell_type": "code",
   "execution_count": 4,
   "id": "71c6f3bb-c83a-4eab-a6ed-916d5067b196",
   "metadata": {},
   "outputs": [],
   "source": [
    "def testme():\n",
    "    # Run \n",
    "    start_time=time.time()\n",
    "    abc.generate()\n",
    "    end_time = time.time()\n",
    "    diff = end_time - start_time\n",
    "    print(f\"Execution and compile time: {diff} seconds\")\n",
    "    \n",
    "    start_time=time.time()\n",
    "    abc.generate()\n",
    "    end_time = time.time()\n",
    "    print(f\"Execution time: {end_time - start_time} seconds\")\n",
    "    \n"
   ]
  },
  {
   "cell_type": "markdown",
   "id": "d2ab216f-752b-4edd-a851-70e840074c39",
   "metadata": {},
   "source": [
    "## Before any changes"
   ]
  },
  {
   "cell_type": "code",
   "execution_count": 17,
   "id": "31096cb4-58bc-400a-b01a-5c5cbd441c01",
   "metadata": {},
   "outputs": [
    {
     "name": "stdout",
     "output_type": "stream",
     "text": [
      "Execution and compile time: 0.0006232261657714844 seconds\n",
      "Execution time: 0.0004684925079345703 seconds\n"
     ]
    }
   ],
   "source": [
    "testme()"
   ]
  },
  {
   "cell_type": "markdown",
   "id": "f2c36bbf-481f-427b-8ea3-e62b3ea22f77",
   "metadata": {},
   "source": [
    "## Adding external loop of 100 iterations"
   ]
  },
  {
   "cell_type": "markdown",
   "id": "0eecf02e-d3e3-4eaa-8845-333a2240047d",
   "metadata": {},
   "source": [
    "Pretty much as expected, x100 times "
   ]
  },
  {
   "cell_type": "code",
   "execution_count": 22,
   "id": "2f2e8cce-52bc-48b4-87fd-0a72e97de933",
   "metadata": {},
   "outputs": [
    {
     "name": "stdout",
     "output_type": "stream",
     "text": [
      "Execution time: 0.03728342056274414 seconds\n"
     ]
    }
   ],
   "source": [
    "start_time=time.time()\n",
    "for n_reps in range(100):\n",
    "    abc.generate()\n",
    "end_time = time.time()\n",
    "print(f\"Execution time: {end_time - start_time} seconds\")"
   ]
  },
  {
   "cell_type": "markdown",
   "id": "b0fdb367-03cc-45d1-8f0e-1bf6a9c787bf",
   "metadata": {},
   "source": [
    "## Moving the loop internally"
   ]
  },
  {
   "cell_type": "code",
   "execution_count": 6,
   "id": "ee4c7da7-b3e3-49e1-bd0e-7e217f0d588e",
   "metadata": {},
   "outputs": [
    {
     "name": "stderr",
     "output_type": "stream",
     "text": [
      "/rds/project/rds-8b3VcZwY7rY/users/rs2145/git/dated_selection/src/abc.py:131: NumbaDebugInfoWarning: \u001b[1m\u001b[1m\u001b[1mCould not find source for function: <function jit_wrapper__built_in_method_random_of_numpy_random_mtrand_RandomState_object_at_0x1549d34f2d40_ at 0x1549b2a98dc0>. Debug line information may be inaccurate.\u001b[0m\u001b[0m\u001b[0m\n",
      "  somethinghappened = np.random.exponential(1 / lambda_alpha) if lambda_alpha > 0 else time_to_next_event\n",
      "/rds/project/rds-8b3VcZwY7rY/users/rs2145/git/dated_selection/src/abc.py:131: NumbaDebugInfoWarning: \u001b[1m\u001b[1mCould not find source for function: <function jit_wrapper__built_in_method_exponential_of_numpy_random_mtrand_RandomState_object_at_0x1549d34f2d40_ at 0x1549b2fdc040>. Debug line information may be inaccurate.\u001b[0m\u001b[0m\n",
      "  somethinghappened = np.random.exponential(1 / lambda_alpha) if lambda_alpha > 0 else time_to_next_event\n",
      "/rds/project/rds-8b3VcZwY7rY/users/rs2145/git/dated_selection/src/abc.py:132: NumbaDebugInfoWarning: \u001b[1m\u001b[1mCould not find source for function: <function jit_wrapper__built_in_function_array_ at 0x1549b34f5ea0>. Debug line information may be inaccurate.\u001b[0m\u001b[0m\n",
      "  whathappened = next_event if time_to_next_event <= somethinghappened else random_choice_numba([\"coal\", \"mut\"], np.array([coalprob, 1 - coalprob]))\n",
      "/rds/project/rds-8b3VcZwY7rY/users/rs2145/git/dated_selection/src/abc.py:135: NumbaDebugInfoWarning: \u001b[1m\u001b[1m\u001b[1mCould not find source for function: <function unicode_str.<locals>.<lambda> at 0x1549b2fdfd90>. Debug line information may be inaccurate.\u001b[0m\u001b[0m\u001b[0m\n",
      "  if whathappened == \"popsizechange\":\n",
      "/rds/project/rds-8b3VcZwY7rY/users/rs2145/git/dated_selection/src/abc.py:147: NumbaDebugInfoWarning: \u001b[1m\u001b[1m\u001b[1mCould not find source for function: <function jit_wrapper__built_in_function_array_ at 0x1549b2d93d90>. Debug line information may be inaccurate.\u001b[0m\u001b[0m\u001b[0m\n",
      "  tipsnotin = setdiff(tipsnotin, addtips) # previously tipsnotin[np.setdiff1d(tipsnotin, addtips)]\n",
      "/rds/project/rds-8b3VcZwY7rY/users/rs2145/git/dated_selection/src/abc.py:76: NumbaDebugInfoWarning: \u001b[1m\u001b[1mCould not find source for function: <function jit_wrapper__built_in_function_array_ at 0x1549b34f65f0>. Debug line information may be inaccurate.\u001b[0m\u001b[0m\n",
      "  nodeages = np.array([0] * n,dtype=\"float\")\n",
      "/rds/project/rds-8b3VcZwY7rY/users/rs2145/git/dated_selection/src/abc.py:84: NumbaDebugInfoWarning: \u001b[1m\u001b[1mCould not find source for function: <function jit_wrapper__function_where_at_0x1549fc4f0790_ at 0x1549b3431f30>. Debug line information may be inaccurate.\u001b[0m\u001b[0m\n",
      "  ks = np.where(np.cumsum(hs) < .999)[0]   # 0.999 is an arbitrary decision\n",
      "/rds/project/rds-8b3VcZwY7rY/users/rs2145/git/dated_selection/src/abc.py:92: NumbaDebugInfoWarning: \u001b[1m\u001b[1m\u001b[1m\u001b[1m\u001b[1m\u001b[1mCould not find source for function: <function <lambda> at 0x1549b3958160>. Debug line information may be inaccurate.\u001b[0m\u001b[0m\u001b[0m\u001b[0m\u001b[0m\u001b[0m\n",
      "  tip_classes = random_choices_numba(ks,h,n)\n",
      "/rds/project/rds-8b3VcZwY7rY/users/rs2145/git/dated_selection/src/abc.py:92: NumbaDebugInfoWarning: \u001b[1m\u001b[1m\u001b[1m\u001b[1mCould not find source for function: <function jit_wrapper__built_in_method_random_of_Random_object_at_0x5586963c9100_ at 0x1549b2cf4790>. Debug line information may be inaccurate.\u001b[0m\u001b[0m\u001b[0m\u001b[0m\n",
      "  tip_classes = random_choices_numba(ks,h,n)\n",
      "/home/rs2145/rs2145/software/anaconda3/envs/dated_selection/lib/python3.10/site-packages/numba/core/lowering.py:107: NumbaDebugInfoWarning: \u001b[1mCould not find source for function: <function __numba_array_expr_0x1549b2e604c0 at 0x1549b2cf5630>. Debug line information may be inaccurate.\u001b[0m\n",
      "  warnings.warn(NumbaDebugInfoWarning(msg))\n",
      "/home/rs2145/rs2145/software/anaconda3/envs/dated_selection/lib/python3.10/site-packages/numba/core/lowering.py:107: NumbaDebugInfoWarning: \u001b[1mCould not find source for function: <function __numba_array_expr_0x1549b2e62f50 at 0x1549b2fdc3a0>. Debug line information may be inaccurate.\u001b[0m\n",
      "  warnings.warn(NumbaDebugInfoWarning(msg))\n",
      "/home/rs2145/rs2145/software/anaconda3/envs/dated_selection/lib/python3.10/site-packages/numba/core/lowering.py:107: NumbaDebugInfoWarning: \u001b[1mCould not find source for function: <function __numba_array_expr_0x1549b2e62fe0 at 0x1549b2a9b6d0>. Debug line information may be inaccurate.\u001b[0m\n",
      "  warnings.warn(NumbaDebugInfoWarning(msg))\n",
      "/home/rs2145/rs2145/software/anaconda3/envs/dated_selection/lib/python3.10/site-packages/numba/core/lowering.py:107: NumbaDebugInfoWarning: \u001b[1mCould not find source for function: <function __numba_array_expr_0x1549b2e63250 at 0x1549b2a9bf40>. Debug line information may be inaccurate.\u001b[0m\n",
      "  warnings.warn(NumbaDebugInfoWarning(msg))\n",
      "/home/rs2145/rs2145/software/anaconda3/envs/dated_selection/lib/python3.10/site-packages/numba/core/lowering.py:107: NumbaDebugInfoWarning: \u001b[1mCould not find source for function: <function __numba_array_expr_0x1549b2e62aa0 at 0x1549b2fde320>. Debug line information may be inaccurate.\u001b[0m\n",
      "  warnings.warn(NumbaDebugInfoWarning(msg))\n",
      "/home/rs2145/rs2145/software/anaconda3/envs/dated_selection/lib/python3.10/site-packages/numba/core/lowering.py:107: NumbaDebugInfoWarning: \u001b[1mCould not find source for function: <function __numba_array_expr_0x1549b2e61a50 at 0x1549b2c096c0>. Debug line information may be inaccurate.\u001b[0m\n",
      "  warnings.warn(NumbaDebugInfoWarning(msg))\n",
      "/home/rs2145/rs2145/software/anaconda3/envs/dated_selection/lib/python3.10/site-packages/numba/core/lowering.py:107: NumbaDebugInfoWarning: \u001b[1mCould not find source for function: <function __numba_array_expr_0x1549b2e49900 at 0x1549b2c095a0>. Debug line information may be inaccurate.\u001b[0m\n",
      "  warnings.warn(NumbaDebugInfoWarning(msg))\n",
      "/home/rs2145/rs2145/software/anaconda3/envs/dated_selection/lib/python3.10/site-packages/numba/core/lowering.py:107: NumbaDebugInfoWarning: \u001b[1mCould not find source for function: <function __numba_array_expr_0x1549b2e4b9a0 at 0x1549b2fdd5a0>. Debug line information may be inaccurate.\u001b[0m\n",
      "  warnings.warn(NumbaDebugInfoWarning(msg))\n",
      "/home/rs2145/rs2145/software/anaconda3/envs/dated_selection/lib/python3.10/site-packages/numba/core/lowering.py:107: NumbaDebugInfoWarning: \u001b[1mCould not find source for function: <function __numba_array_expr_0x1549b2e49960 at 0x1549b2c08700>. Debug line information may be inaccurate.\u001b[0m\n",
      "  warnings.warn(NumbaDebugInfoWarning(msg))\n",
      "/home/rs2145/rs2145/software/anaconda3/envs/dated_selection/lib/python3.10/site-packages/numba/core/lowering.py:107: NumbaDebugInfoWarning: \u001b[1mCould not find source for function: <function __numba_array_expr_0x1549b2e49e40 at 0x1549b2d91bd0>. Debug line information may be inaccurate.\u001b[0m\n",
      "  warnings.warn(NumbaDebugInfoWarning(msg))\n",
      "/home/rs2145/rs2145/software/anaconda3/envs/dated_selection/lib/python3.10/site-packages/numba/core/lowering.py:107: NumbaDebugInfoWarning: \u001b[1mCould not find source for function: <function __numba_array_expr_0x1549b2e4b7c0 at 0x1549b2c09630>. Debug line information may be inaccurate.\u001b[0m\n",
      "  warnings.warn(NumbaDebugInfoWarning(msg))\n",
      "/home/rs2145/rs2145/software/anaconda3/envs/dated_selection/lib/python3.10/site-packages/numba/core/lowering.py:107: NumbaDebugInfoWarning: \u001b[1mCould not find source for function: <function __numba_array_expr_0x1549b2e4ba00 at 0x1549b2fddb40>. Debug line information may be inaccurate.\u001b[0m\n",
      "  warnings.warn(NumbaDebugInfoWarning(msg))\n",
      "/home/rs2145/rs2145/software/anaconda3/envs/dated_selection/lib/python3.10/site-packages/numba/core/lowering.py:107: NumbaDebugInfoWarning: \u001b[1mCould not find source for function: <function __numba_array_expr_0x1549b2e4bcd0 at 0x1549b3432b90>. Debug line information may be inaccurate.\u001b[0m\n",
      "  warnings.warn(NumbaDebugInfoWarning(msg))\n",
      "/home/rs2145/rs2145/software/anaconda3/envs/dated_selection/lib/python3.10/site-packages/numba/core/lowering.py:107: NumbaDebugInfoWarning: \u001b[1mCould not find source for function: <function __numba_array_expr_0x1549b2e498a0 at 0x1549b2c08c10>. Debug line information may be inaccurate.\u001b[0m\n",
      "  warnings.warn(NumbaDebugInfoWarning(msg))\n",
      "/home/rs2145/rs2145/software/anaconda3/envs/dated_selection/lib/python3.10/site-packages/numba/core/lowering.py:107: NumbaDebugInfoWarning: \u001b[1mCould not find source for function: <function __numba_array_expr_0x1549b2e4be20 at 0x1549b2a988b0>. Debug line information may be inaccurate.\u001b[0m\n",
      "  warnings.warn(NumbaDebugInfoWarning(msg))\n",
      "/home/rs2145/rs2145/software/anaconda3/envs/dated_selection/lib/python3.10/site-packages/numba/core/lowering.py:107: NumbaDebugInfoWarning: \u001b[1mCould not find source for function: <function __numba_array_expr_0x1549b2e4bb80 at 0x1549b2a9a3b0>. Debug line information may be inaccurate.\u001b[0m\n",
      "  warnings.warn(NumbaDebugInfoWarning(msg))\n",
      "/home/rs2145/rs2145/software/anaconda3/envs/dated_selection/lib/python3.10/site-packages/numba/core/lowering.py:107: NumbaDebugInfoWarning: \u001b[1mCould not find source for function: <function __numba_array_expr_0x1549b2e62c80 at 0x1549b2a98280>. Debug line information may be inaccurate.\u001b[0m\n",
      "  warnings.warn(NumbaDebugInfoWarning(msg))\n",
      "/home/rs2145/rs2145/software/anaconda3/envs/dated_selection/lib/python3.10/site-packages/numba/core/lowering.py:107: NumbaDebugInfoWarning: \u001b[1mCould not find source for function: <function __numba_array_expr_0x1549b2e63820 at 0x1549b2a99a20>. Debug line information may be inaccurate.\u001b[0m\n",
      "  warnings.warn(NumbaDebugInfoWarning(msg))\n",
      "/home/rs2145/rs2145/software/anaconda3/envs/dated_selection/lib/python3.10/site-packages/numba/core/lowering.py:107: NumbaDebugInfoWarning: \u001b[1mCould not find source for function: <function __numba_array_expr_0x1549b2e605e0 at 0x1549b2a99630>. Debug line information may be inaccurate.\u001b[0m\n",
      "  warnings.warn(NumbaDebugInfoWarning(msg))\n",
      "/home/rs2145/rs2145/software/anaconda3/envs/dated_selection/lib/python3.10/site-packages/numba/core/lowering.py:107: NumbaDebugInfoWarning: \u001b[1mCould not find source for function: <function __numba_array_expr_0x1549b2e61930 at 0x1549b2fdeb90>. Debug line information may be inaccurate.\u001b[0m\n",
      "  warnings.warn(NumbaDebugInfoWarning(msg))\n"
     ]
    },
    {
     "name": "stdout",
     "output_type": "stream",
     "text": [
      "Execution and compile time: 11.476057052612305 seconds\n",
      "Execution time: 0.03850603103637695 seconds\n"
     ]
    }
   ],
   "source": [
    "testme()"
   ]
  },
  {
   "cell_type": "code",
   "execution_count": 27,
   "id": "a1dd63dc-c052-4ce6-aaae-3fafeef73a81",
   "metadata": {},
   "outputs": [
    {
     "name": "stdout",
     "output_type": "stream",
     "text": [
      "Saved around  29.83783783783783 percent of running time\n"
     ]
    }
   ],
   "source": [
    "print(\"Saved around \", (1-0.02596/0.037)*100, \"percent of running time\")"
   ]
  },
  {
   "cell_type": "markdown",
   "id": "56999095-8113-481a-993e-c0b26880e7cb",
   "metadata": {},
   "source": [
    "## Profiling with `profila` to see where's the bottleneck"
   ]
  },
  {
   "cell_type": "code",
   "execution_count": 10,
   "id": "a73c95ae-2c22-4795-87dc-bd38074bf15c",
   "metadata": {},
   "outputs": [
    {
     "name": "stdout",
     "output_type": "stream",
     "text": [
      "Execution and compile time: 0.03810596466064453 seconds\n",
      "Execution time: 0.038697242736816406 seconds\n"
     ]
    }
   ],
   "source": [
    "testme()"
   ]
  },
  {
   "cell_type": "code",
   "execution_count": null,
   "id": "da42a858-1f3f-4679-8983-aa8f312386cd",
   "metadata": {},
   "outputs": [],
   "source": [
    "%%profila\n",
    "for i in range(10):\n",
    "    abc.generate()"
   ]
  },
  {
   "cell_type": "markdown",
   "id": "2224fa0e-c6f9-4128-bafc-e05b2290560c",
   "metadata": {},
   "source": [
    "There doesn't seem to be a strong bottleneck. Removing the strings might help a bit, but probably not dramatically."
   ]
  },
  {
   "cell_type": "markdown",
   "id": "a50d3278-7a5d-409c-b893-3ec88e2cb380",
   "metadata": {},
   "source": [
    "## Does fastmath help?"
   ]
  },
  {
   "cell_type": "markdown",
   "id": "b14f8e5b-7aad-42e2-a5a6-ebcc9052e5d8",
   "metadata": {},
   "source": [
    "Without"
   ]
  },
  {
   "cell_type": "code",
   "execution_count": 17,
   "id": "0ef94802-201c-4495-8b1c-760ad0e69c36",
   "metadata": {},
   "outputs": [
    {
     "name": "stdout",
     "output_type": "stream",
     "text": [
      "Execution and compile time: 0.03928112983703613 seconds\n",
      "Execution time: 0.038401126861572266 seconds\n"
     ]
    }
   ],
   "source": [
    "testme()"
   ]
  },
  {
   "cell_type": "markdown",
   "id": "86b194f6-a0ba-458e-bdde-084a3e697375",
   "metadata": {},
   "source": [
    "With"
   ]
  },
  {
   "cell_type": "code",
   "execution_count": 11,
   "id": "2887e934-9a07-4483-b243-a1c2be47ce38",
   "metadata": {},
   "outputs": [
    {
     "name": "stdout",
     "output_type": "stream",
     "text": [
      "Execution and compile time: 0.025449275970458984 seconds\n",
      "Execution time: 0.025081634521484375 seconds\n"
     ]
    }
   ],
   "source": [
    "testme()"
   ]
  },
  {
   "cell_type": "markdown",
   "id": "95d6a49e-4dd3-4823-9971-9529df554ddf",
   "metadata": {},
   "source": [
    "Yes it seems to take some ~30% out"
   ]
  },
  {
   "cell_type": "markdown",
   "id": "06c9db3c-30bb-464a-9e9b-2374631de4d8",
   "metadata": {},
   "source": [
    "## What about parallel=True?"
   ]
  },
  {
   "cell_type": "code",
   "execution_count": null,
   "id": "531ac8dc-d0e9-42c5-99d8-425c8a035a1b",
   "metadata": {},
   "outputs": [],
   "source": [
    "testme()"
   ]
  },
  {
   "cell_type": "code",
   "execution_count": null,
   "id": "9f92aa67-9e1e-4432-af05-51dfb71527ac",
   "metadata": {},
   "outputs": [],
   "source": []
  },
  {
   "cell_type": "code",
   "execution_count": null,
   "id": "1c51802a-b53d-44e8-b514-9fb31ca6e340",
   "metadata": {},
   "outputs": [],
   "source": []
  },
  {
   "cell_type": "code",
   "execution_count": null,
   "id": "cba21354-55fb-444c-9415-43d57d4727b7",
   "metadata": {},
   "outputs": [],
   "source": []
  }
 ],
 "metadata": {
  "kernelspec": {
   "display_name": "dated_selection",
   "language": "python",
   "name": "dated_selection"
  },
  "language_info": {
   "codemirror_mode": {
    "name": "ipython",
    "version": 3
   },
   "file_extension": ".py",
   "mimetype": "text/x-python",
   "name": "python",
   "nbconvert_exporter": "python",
   "pygments_lexer": "ipython3",
   "version": "3.10.10"
  }
 },
 "nbformat": 4,
 "nbformat_minor": 5
}
