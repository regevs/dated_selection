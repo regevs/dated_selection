{
 "cells": [
  {
   "cell_type": "code",
   "execution_count": 15,
   "id": "b4378148",
   "metadata": {},
   "outputs": [
    {
     "name": "stdout",
     "output_type": "stream",
     "text": [
      "The autoreload extension is already loaded. To reload it, use:\n",
      "  %reload_ext autoreload\n"
     ]
    }
   ],
   "source": [
    "%load_ext autoreload\n",
    "%autoreload 2"
   ]
  },
  {
   "cell_type": "code",
   "execution_count": 16,
   "id": "e6842d24",
   "metadata": {},
   "outputs": [],
   "source": [
    "import os\n",
    "import matplotlib.pyplot as plt\n",
    "import tqdm\n",
    "import numpy as np\n",
    "\n",
    "os.chdir(\"../src\")\n",
    "import simulator"
   ]
  },
  {
   "cell_type": "code",
   "execution_count": null,
   "id": "bcb62cd1",
   "metadata": {},
   "outputs": [],
   "source": []
  },
  {
   "cell_type": "code",
   "execution_count": null,
   "id": "fd9c81a7",
   "metadata": {},
   "outputs": [
    {
     "name": "stderr",
     "output_type": "stream",
     "text": [
      " 93%|███████████████████████████████████████████████████████████████████████████████████████████████████████████████████▉        | 934/999 [00:15<00:01, 49.36it/s]"
     ]
    }
   ],
   "source": [
    "S = simulator.Simulator(\n",
    "    Ne = 10000,\n",
    "    s = 1e-3,\n",
    "    Un = 2e-3,\n",
    "    Ud = 2e-3,\n",
    "    n_generations = 1000,\n",
    "    sampling_scheme = {250: 10, 500: 10, 750: 10, 999: 30}, \n",
    "    random_seed = 42,\n",
    ")\n",
    "\n",
    "S.run()"
   ]
  },
  {
   "cell_type": "code",
   "execution_count": 246,
   "id": "cf097a13",
   "metadata": {},
   "outputs": [
    {
     "data": {
      "text/plain": [
       "113"
      ]
     },
     "execution_count": 246,
     "metadata": {},
     "output_type": "execute_result"
    }
   ],
   "source": [
    "S.tmrca(999, 0, 999, 50)"
   ]
  },
  {
   "cell_type": "code",
   "execution_count": null,
   "id": "2037a70f",
   "metadata": {},
   "outputs": [],
   "source": []
  }
 ],
 "metadata": {
  "kernelspec": {
   "display_name": "dated_selection",
   "language": "python",
   "name": "dated_selection"
  },
  "language_info": {
   "codemirror_mode": {
    "name": "ipython",
    "version": 3
   },
   "file_extension": ".py",
   "mimetype": "text/x-python",
   "name": "python",
   "nbconvert_exporter": "python",
   "pygments_lexer": "ipython3",
   "version": "3.10.9"
  }
 },
 "nbformat": 4,
 "nbformat_minor": 5
}
