{
 "cells": [
  {
   "cell_type": "code",
   "execution_count": 15,
   "id": "b4378148",
   "metadata": {},
   "outputs": [
    {
     "name": "stdout",
     "output_type": "stream",
     "text": [
      "The autoreload extension is already loaded. To reload it, use:\n",
      "  %reload_ext autoreload\n"
     ]
    }
   ],
   "source": [
    "%load_ext autoreload\n",
    "%autoreload 2"
   ]
  },
  {
   "cell_type": "code",
   "execution_count": 16,
   "id": "e6842d24",
   "metadata": {},
   "outputs": [],
   "source": [
    "import os\n",
    "import matplotlib.pyplot as plt\n",
    "import tqdm\n",
    "import numpy as np\n",
    "\n",
    "os.chdir(\"../src\")\n",
    "import simulator"
   ]
  },
  {
   "cell_type": "code",
   "execution_count": null,
   "id": "bcb62cd1",
   "metadata": {},
   "outputs": [],
   "source": []
  },
  {
   "cell_type": "code",
   "execution_count": 203,
   "id": "fd9c81a7",
   "metadata": {},
   "outputs": [
    {
     "name": "stderr",
     "output_type": "stream",
     "text": [
      "100%|██████████████████████████████████████████████████████████████████████████████████████████████████████████████████████████| 999/999 [00:00<00:00, 1970.20it/s]\n"
     ]
    }
   ],
   "source": [
    "S = simulator.Simulator(\n",
    "    Ne = 100,\n",
    "    s = 1e-3,\n",
    "    Un = 2e-3,\n",
    "    Ud = 2e-3,\n",
    "    n_generations = 1000,\n",
    "    sampling_scheme = {250: 10, 500: 10, 750: 10, 999:30}\n",
    ")\n",
    "\n",
    "S.run()"
   ]
  },
  {
   "cell_type": "code",
   "execution_count": 200,
   "id": "652418a0",
   "metadata": {},
   "outputs": [
    {
     "data": {
      "text/plain": [
       "[array([1, 1, 1, 1, 1, 1, 1, 1, 0, 0]), array([0, 0, 0, 0, 0, 0, 0, 0, 0, 0])]"
      ]
     },
     "execution_count": 200,
     "metadata": {},
     "output_type": "execute_result"
    }
   ],
   "source": [
    "S.samples[250]"
   ]
  },
  {
   "cell_type": "code",
   "execution_count": 202,
   "id": "2729e6cf",
   "metadata": {},
   "outputs": [
    {
     "data": {
      "text/plain": [
       "{0: 37, 1: 20, 2: 3, 3: 77, 4: 54, 5: 75, 6: 68, 7: 22, 8: 33, 9: 81, 14: 47}"
      ]
     },
     "execution_count": 202,
     "metadata": {},
     "output_type": "execute_result"
    }
   ],
   "source": [
    "S.ancestors[249]"
   ]
  },
  {
   "cell_type": "code",
   "execution_count": null,
   "id": "9c7aa7ce",
   "metadata": {},
   "outputs": [],
   "source": []
  }
 ],
 "metadata": {
  "kernelspec": {
   "display_name": "dated_selection",
   "language": "python",
   "name": "dated_selection"
  },
  "language_info": {
   "codemirror_mode": {
    "name": "ipython",
    "version": 3
   },
   "file_extension": ".py",
   "mimetype": "text/x-python",
   "name": "python",
   "nbconvert_exporter": "python",
   "pygments_lexer": "ipython3",
   "version": "3.10.9"
  }
 },
 "nbformat": 4,
 "nbformat_minor": 5
}
