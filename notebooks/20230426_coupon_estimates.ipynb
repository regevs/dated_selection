{
 "cells": [
  {
   "cell_type": "code",
   "execution_count": 3,
   "id": "51375e11-bb2a-40e1-8635-6775881b282a",
   "metadata": {
    "tags": []
   },
   "outputs": [],
   "source": [
    "%load_ext autoreload\n",
    "%autoreload 2"
   ]
  },
  {
   "cell_type": "code",
   "execution_count": 4,
   "id": "9c464649-b96f-487c-991d-28a491c2735c",
   "metadata": {
    "tags": []
   },
   "outputs": [],
   "source": [
    "import numpy as np\n",
    "import pandas as pd\n",
    "import matplotlib.pyplot as plt\n",
    "import pyslim, tskit\n",
    "import itertools\n",
    "import scipy.special\n",
    "import os, subprocess, sys\n",
    "from Bio import Phylo\n",
    "from io import StringIO\n",
    "import msprime\n",
    "import tqdm\n",
    "from pathlib import Path\n",
    "\n",
    "sys.path.append(str(Path(os.getcwd()).parent))"
   ]
  },
  {
   "cell_type": "code",
   "execution_count": 5,
   "id": "b67906fe-6159-4882-a809-6456d47afee3",
   "metadata": {
    "tags": []
   },
   "outputs": [],
   "source": [
    "from src import extract_tree_stats, curve_inference"
   ]
  },
  {
   "cell_type": "code",
   "execution_count": null,
   "id": "ddf8d178-0ff2-4e0d-bf8e-58cb8da58243",
   "metadata": {},
   "outputs": [],
   "source": []
  },
  {
   "cell_type": "code",
   "execution_count": null,
   "id": "618bf3da-66e6-482b-b067-43c86e156031",
   "metadata": {},
   "outputs": [],
   "source": []
  },
  {
   "cell_type": "code",
   "execution_count": 6,
   "id": "0300280f-1ed9-4470-b1b8-38950465b31c",
   "metadata": {
    "tags": []
   },
   "outputs": [],
   "source": [
    "def effective_pop_size_pairwise(t1, t2, N, Ud, s):\n",
    "    \"\"\"\n",
    "    t1 and t2 can be vectors\n",
    "    \"\"\"\n",
    "    t1 = np.maximum(t1, -1)\n",
    "    t2 = np.maximum(t2, -1)\n",
    "    \n",
    "    prob_coal = 1/N * np.exp(Ud/s * (1 - np.exp(-s * t1)) * (1 - np.exp(-s * t2)))\n",
    "    \n",
    "    # support negative times\n",
    "    Ne = np.where((t1 >= 0) & (t2 >= 0), 1/prob_coal, np.nan)\n",
    "    \n",
    "    return Ne\n",
    "    \n",
    " \n",
    "    "
   ]
  },
  {
   "cell_type": "markdown",
   "id": "8f7c9028-8b4c-43d5-9545-0efa9f5ef832",
   "metadata": {},
   "source": [
    "# The first plot from Desai paper"
   ]
  },
  {
   "cell_type": "code",
   "execution_count": 66,
   "id": "e741665b-f014-497e-8ae3-536ea8ecaf79",
   "metadata": {
    "tags": []
   },
   "outputs": [],
   "source": [
    "target_path = \"/rds/project/rds-8b3VcZwY7rY/projects/dated_selection/data/another_desai_20230626/\""
   ]
  },
  {
   "cell_type": "code",
   "execution_count": 67,
   "id": "38f7e3a2-c0c8-4539-8809-017fc5f47d53",
   "metadata": {
    "tags": []
   },
   "outputs": [
    {
     "name": "stderr",
     "output_type": "stream",
     "text": [
      "[Parallel(n_jobs=-1)]: Using backend LokyBackend with 76 concurrent workers.\n",
      "[Parallel(n_jobs=-1)]: Done   4 out of 100 | elapsed:   30.4s remaining: 12.1min\n",
      "[Parallel(n_jobs=-1)]: Done  15 out of 100 | elapsed:   30.4s remaining:  2.9min\n",
      "[Parallel(n_jobs=-1)]: Done  26 out of 100 | elapsed:   30.4s remaining:  1.4min\n",
      "[Parallel(n_jobs=-1)]: Done  37 out of 100 | elapsed:   30.4s remaining:   51.8s\n",
      "[Parallel(n_jobs=-1)]: Done  48 out of 100 | elapsed:   30.4s remaining:   33.0s\n",
      "[Parallel(n_jobs=-1)]: Done  59 out of 100 | elapsed:   30.4s remaining:   21.2s\n",
      "[Parallel(n_jobs=-1)]: Done  70 out of 100 | elapsed:   30.5s remaining:   13.1s\n",
      "[Parallel(n_jobs=-1)]: Done  81 out of 100 | elapsed:   30.5s remaining:    7.2s\n",
      "[Parallel(n_jobs=-1)]: Done  92 out of 100 | elapsed:   30.5s remaining:    2.7s\n",
      "[Parallel(n_jobs=-1)]: Done 100 out of 100 | elapsed:   30.6s finished\n"
     ]
    }
   ],
   "source": [
    "all_n_lineages = curve_inference.read_all_n_lineages(target_path)"
   ]
  },
  {
   "cell_type": "code",
   "execution_count": 68,
   "id": "e9e1bae4-e61f-42d7-a529-bd854e5486e7",
   "metadata": {
    "tags": []
   },
   "outputs": [],
   "source": [
    "max_generations = 4000\n",
    "\n",
    "xs = np.concatenate([np.arange(0,500,10), np.arange(500, 2000, 100), np.arange(2000, max_generations, 500)])\n"
   ]
  },
  {
   "cell_type": "code",
   "execution_count": 69,
   "id": "18f5871f-29e7-4b1a-84c6-a570411d95ba",
   "metadata": {
    "tags": []
   },
   "outputs": [
    {
     "name": "stderr",
     "output_type": "stream",
     "text": [
      "[Parallel(n_jobs=-1)]: Using backend LokyBackend with 76 concurrent workers.\n",
      "[Parallel(n_jobs=-1)]: Done   8 out of  68 | elapsed:    9.4s remaining:  1.2min\n",
      "[Parallel(n_jobs=-1)]: Done  15 out of  68 | elapsed:    9.4s remaining:   33.3s\n",
      "[Parallel(n_jobs=-1)]: Done  22 out of  68 | elapsed:    9.4s remaining:   19.7s\n",
      "[Parallel(n_jobs=-1)]: Done  29 out of  68 | elapsed:    9.4s remaining:   12.7s\n",
      "[Parallel(n_jobs=-1)]: Done  36 out of  68 | elapsed:    9.4s remaining:    8.4s\n",
      "[Parallel(n_jobs=-1)]: Done  43 out of  68 | elapsed:    9.4s remaining:    5.5s\n",
      "[Parallel(n_jobs=-1)]: Done  50 out of  68 | elapsed:    9.4s remaining:    3.4s\n",
      "[Parallel(n_jobs=-1)]: Done  57 out of  68 | elapsed:    9.4s remaining:    1.8s\n",
      "[Parallel(n_jobs=-1)]: Done  64 out of  68 | elapsed:    9.4s remaining:    0.6s\n",
      "[Parallel(n_jobs=-1)]: Done  68 out of  68 | elapsed:    9.6s finished\n"
     ]
    }
   ],
   "source": [
    "estimates = curve_inference.infer_Ne(all_n_lineages, xs)"
   ]
  },
  {
   "cell_type": "code",
   "execution_count": 80,
   "id": "6d834708-43ad-4f99-b76a-7f989053b728",
   "metadata": {
    "tags": []
   },
   "outputs": [],
   "source": [
    "N = 1e4\n",
    "s = 1e-2\n",
    "Ud = s * 2\n",
    "\n",
    "t1 = np.arange(0, max_generations)\n",
    "t2 = np.arange(0, max_generations)\n",
    "\n",
    "theory_Ne = effective_pop_size_pairwise(t1, t2, N, Ud, s)\n",
    "\n"
   ]
  },
  {
   "cell_type": "code",
   "execution_count": 81,
   "id": "08cdd9f9-ad12-4a3e-b372-f3edaa508840",
   "metadata": {
    "tags": []
   },
   "outputs": [
    {
     "data": {
      "text/plain": [
       "<matplotlib.legend.Legend at 0x14a63b9ae6e0>"
      ]
     },
     "execution_count": 81,
     "metadata": {},
     "output_type": "execute_result"
    },
    {
     "data": {
      "image/png": "[encoded data removed]",
      "text/plain": [
       "<Figure size 640x480 with 1 Axes>"
      ]
     },
     "metadata": {},
     "output_type": "display_data"
    }
   ],
   "source": [
    "plt.plot(xs[:-1], estimates, '.', label=\"Coupon estimates\")\n",
    "plt.plot(t1, theory_Ne, label=\"Theory\")\n",
    "plt.xlim(0,2000)\n",
    "plt.ylim(0, 10000)\n",
    "plt.legend()"
   ]
  },
  {
   "cell_type": "markdown",
   "id": "4599bceb-cdae-4d55-a334-cd5518711174",
   "metadata": {
    "tags": []
   },
   "source": [
    "# Two point sampling scheme"
   ]
  },
  {
   "cell_type": "code",
   "execution_count": 24,
   "id": "1bbd7fb4-f2cd-4677-a2a1-3ba3566f2b6d",
   "metadata": {
    "tags": []
   },
   "outputs": [],
   "source": [
    "target_path = \"/rds/project/rds-8b3VcZwY7rY/projects/dated_selection/data/two_times_100_20230506/\""
   ]
  },
  {
   "cell_type": "code",
   "execution_count": null,
   "id": "1880576f-eb72-4b6b-b0c0-b3d808437f21",
   "metadata": {
    "tags": []
   },
   "outputs": [],
   "source": [
    "all_n_lineages = curve_inference.read_all_n_lineages(target_path)"
   ]
  },
  {
   "cell_type": "code",
   "execution_count": null,
   "id": "8adf252b-8be2-4fdf-ac6c-843aee87eb55",
   "metadata": {},
   "outputs": [],
   "source": []
  },
  {
   "cell_type": "code",
   "execution_count": 20,
   "id": "82f04141-d4ee-4b33-8d45-dfb022f4383c",
   "metadata": {
    "tags": []
   },
   "outputs": [],
   "source": [
    "max_generations = 20000\n",
    "\n",
    "xs = np.concatenate([\n",
    "    np.arange(0, 500, 50), \n",
    "    np.arange(500, 2000, 100), \n",
    "    np.arange(2000, 10000, 500),\n",
    "    np.arange(10000, 10500, 50), \n",
    "    np.arange(10500, 12000, 100), \n",
    "    np.arange(12000, max_generations, 1000),\n",
    "])\n"
   ]
  },
  {
   "cell_type": "code",
   "execution_count": null,
   "id": "4dc0a6a4-f556-4d44-943b-3bc8e5d0b3ac",
   "metadata": {},
   "outputs": [],
   "source": []
  },
  {
   "cell_type": "code",
   "execution_count": 21,
   "id": "c4109c29-510a-402e-958e-6b13956aa8e2",
   "metadata": {
    "tags": []
   },
   "outputs": [
    {
     "name": "stderr",
     "output_type": "stream",
     "text": [
      "[Parallel(n_jobs=5)]: Using backend LokyBackend with 5 concurrent workers.\n",
      "[Parallel(n_jobs=5)]: Done   3 tasks      | elapsed:   13.0s\n",
      "[Parallel(n_jobs=5)]: Done   8 tasks      | elapsed:   22.3s\n",
      "[Parallel(n_jobs=5)]: Done  15 tasks      | elapsed:   44.8s\n",
      "[Parallel(n_jobs=5)]: Done  22 tasks      | elapsed:  1.2min\n",
      "[Parallel(n_jobs=5)]: Done  31 tasks      | elapsed:  4.0min\n",
      "[Parallel(n_jobs=5)]: Done  40 tasks      | elapsed:  5.6min\n",
      "[Parallel(n_jobs=5)]: Done  51 tasks      | elapsed:  6.3min\n",
      "[Parallel(n_jobs=5)]: Done  62 tasks      | elapsed:  7.0min\n",
      "[Parallel(n_jobs=5)]: Done  73 out of  73 | elapsed: 12.9min finished\n"
     ]
    }
   ],
   "source": [
    "estimates = curve_inference.infer_Ne(all_n_lineages, xs, n_jobs=5)"
   ]
  },
  {
   "cell_type": "code",
   "execution_count": null,
   "id": "da9ad47d-2d51-4c88-a056-458adbabb79c",
   "metadata": {},
   "outputs": [],
   "source": []
  },
  {
   "cell_type": "code",
   "execution_count": 160,
   "id": "a0dbdddc-ad73-4626-b19f-7faf4e73bb4b",
   "metadata": {
    "tags": []
   },
   "outputs": [],
   "source": [
    "N = 1e4\n",
    "s = 1e-2\n",
    "Ud = s * 2\n",
    "\n",
    "t1 = np.arange(0, max_generations)\n",
    "t2 = np.arange(0, max_generations)\n",
    "\n",
    "theory_Ne = effective_pop_size_pairwise(t1, t2, N, Ud, s)\n",
    "\n"
   ]
  },
  {
   "cell_type": "code",
   "execution_count": 24,
   "id": "7a5def0b-73f0-4917-a0ce-23653e8da1c0",
   "metadata": {
    "tags": []
   },
   "outputs": [
    {
     "data": {
      "text/plain": [
       "(0.0, 10000.0)"
      ]
     },
     "execution_count": 24,
     "metadata": {},
     "output_type": "execute_result"
    },
    {
     "data": {
      "image/png": "[encoded data removed]",
      "text/plain": [
       "<Figure size 2000x500 with 1 Axes>"
      ]
     },
     "metadata": {},
     "output_type": "display_data"
    }
   ],
   "source": [
    "plt.figure(figsize=(20, 5))\n",
    "plt.plot(xs[:-1], estimates, '.')\n",
    "#plt.plot(t1, theory_Ne)\n",
    "plt.xlim(0,20000)\n",
    "plt.ylim(0, 10000)"
   ]
  },
  {
   "cell_type": "code",
   "execution_count": 28,
   "id": "52b25212-5ebe-48a9-bc4e-a351cd79cbf9",
   "metadata": {
    "tags": []
   },
   "outputs": [
    {
     "name": "stderr",
     "output_type": "stream",
     "text": [
      "[Parallel(n_jobs=-1)]: Using backend LokyBackend with 76 concurrent workers.\n",
      "[Parallel(n_jobs=-1)]: Done   7 out of  50 | elapsed:    6.7s remaining:   41.1s\n",
      "[Parallel(n_jobs=-1)]: Done  13 out of  50 | elapsed:    6.7s remaining:   19.1s\n",
      "[Parallel(n_jobs=-1)]: Done  19 out of  50 | elapsed:    6.7s remaining:   11.0s\n",
      "[Parallel(n_jobs=-1)]: Done  25 out of  50 | elapsed:    7.2s remaining:    7.2s\n",
      "[Parallel(n_jobs=-1)]: Done  31 out of  50 | elapsed:    7.3s remaining:    4.5s\n",
      "[Parallel(n_jobs=-1)]: Done  37 out of  50 | elapsed:    7.3s remaining:    2.6s\n",
      "[Parallel(n_jobs=-1)]: Done  43 out of  50 | elapsed:    7.3s remaining:    1.2s\n",
      "[Parallel(n_jobs=-1)]: Done  50 out of  50 | elapsed: 31.4min finished\n"
     ]
    }
   ],
   "source": [
    "fine_estimates = curve_inference.infer_Ne(all_n_lineages, np.arange(10000,10050), n_jobs=-1)"
   ]
  },
  {
   "cell_type": "code",
   "execution_count": 29,
   "id": "32651d53-7779-43aa-9ea5-1f09cfb410fe",
   "metadata": {
    "tags": []
   },
   "outputs": [
    {
     "data": {
      "text/plain": [
       "[<matplotlib.lines.Line2D at 0x14f87f27a6b0>]"
      ]
     },
     "execution_count": 29,
     "metadata": {},
     "output_type": "execute_result"
    },
    {
     "data": {
      "image/png": "[encoded data removed]",
      "text/plain": [
       "<Figure size 640x480 with 1 Axes>"
      ]
     },
     "metadata": {},
     "output_type": "display_data"
    }
   ],
   "source": [
    "plt.plot(fine_estimates)"
   ]
  },
  {
   "cell_type": "code",
   "execution_count": null,
   "id": "4fddf5c1-e052-47a5-a9f9-1d53f0b6c60f",
   "metadata": {},
   "outputs": [],
   "source": []
  },
  {
   "cell_type": "markdown",
   "id": "f0b29b68-b5e2-4156-8418-c120dbb6ef22",
   "metadata": {
    "tags": []
   },
   "source": [
    "# Two point sampling scheme - earlier "
   ]
  },
  {
   "cell_type": "code",
   "execution_count": 15,
   "id": "6e01ce80-8110-460c-8b44-8b97a26a38eb",
   "metadata": {
    "tags": []
   },
   "outputs": [],
   "source": [
    "target_path = \"/rds/project/rds-8b3VcZwY7rY/projects/dated_selection/data/two_times_earlier_20230623/\""
   ]
  },
  {
   "cell_type": "code",
   "execution_count": 16,
   "id": "e078b3fc-3b5f-48c7-b4de-8f7ff2032a9b",
   "metadata": {
    "tags": []
   },
   "outputs": [
    {
     "name": "stderr",
     "output_type": "stream",
     "text": [
      "[Parallel(n_jobs=-1)]: Using backend LokyBackend with 76 concurrent workers.\n",
      "[Parallel(n_jobs=-1)]: Done   4 out of 100 | elapsed:   22.1s remaining:  8.8min\n",
      "[Parallel(n_jobs=-1)]: Done  15 out of 100 | elapsed:   23.8s remaining:  2.3min\n",
      "[Parallel(n_jobs=-1)]: Done  26 out of 100 | elapsed:   26.1s remaining:  1.2min\n",
      "[Parallel(n_jobs=-1)]: Done  37 out of 100 | elapsed:   30.2s remaining:   51.4s\n",
      "[Parallel(n_jobs=-1)]: Done  48 out of 100 | elapsed:   32.3s remaining:   35.0s\n",
      "[Parallel(n_jobs=-1)]: Done  59 out of 100 | elapsed:   32.9s remaining:   22.9s\n",
      "[Parallel(n_jobs=-1)]: Done  70 out of 100 | elapsed:   33.9s remaining:   14.5s\n",
      "[Parallel(n_jobs=-1)]: Done  81 out of 100 | elapsed:   34.5s remaining:    8.1s\n",
      "[Parallel(n_jobs=-1)]: Done  92 out of 100 | elapsed:   35.1s remaining:    3.1s\n",
      "[Parallel(n_jobs=-1)]: Done 100 out of 100 | elapsed:   35.5s finished\n"
     ]
    }
   ],
   "source": [
    "all_n_lineages = curve_inference.read_all_n_lineages(target_path)"
   ]
  },
  {
   "cell_type": "code",
   "execution_count": null,
   "id": "29a799c4-bd01-4c25-a08d-935f47bdf5ae",
   "metadata": {},
   "outputs": [],
   "source": []
  },
  {
   "cell_type": "code",
   "execution_count": 34,
   "id": "49ee71a3-151b-4153-9a1d-6a8a09e28a20",
   "metadata": {
    "tags": []
   },
   "outputs": [],
   "source": [
    "max_generations = 20000\n",
    "\n",
    "xs = np.concatenate([\n",
    "    np.arange(0, 100, 5), \n",
    "    np.arange(100, 200, 5), \n",
    "    np.arange(200, 2000, 10), \n",
    "])\n"
   ]
  },
  {
   "cell_type": "code",
   "execution_count": 35,
   "id": "e6894b4b-9a1e-46ce-88b5-709838f59df6",
   "metadata": {},
   "outputs": [
    {
     "data": {
      "text/plain": [
       "220"
      ]
     },
     "execution_count": 35,
     "metadata": {},
     "output_type": "execute_result"
    }
   ],
   "source": [
    "len(xs)"
   ]
  },
  {
   "cell_type": "code",
   "execution_count": 36,
   "id": "766354aa-00f2-4c43-881e-7e9813e537ed",
   "metadata": {
    "tags": []
   },
   "outputs": [
    {
     "name": "stderr",
     "output_type": "stream",
     "text": [
      "[Parallel(n_jobs=5)]: Using backend LokyBackend with 5 concurrent workers.\n",
      "[Parallel(n_jobs=5)]: Batch computation too fast (0.0951s.) Setting batch_size=2.\n",
      "[Parallel(n_jobs=5)]: Done   3 tasks      | elapsed:    0.1s\n",
      "[Parallel(n_jobs=5)]: Done   8 tasks      | elapsed:    0.2s\n",
      "[Parallel(n_jobs=5)]: Done  20 tasks      | elapsed:    0.4s\n",
      "[Parallel(n_jobs=5)]: Done  34 tasks      | elapsed:    0.6s\n",
      "[Parallel(n_jobs=5)]: Done  52 tasks      | elapsed:    1.2s\n",
      "[Parallel(n_jobs=5)]: Done  70 tasks      | elapsed:    1.7s\n",
      "[Parallel(n_jobs=5)]: Done  92 tasks      | elapsed:    2.6s\n",
      "[Parallel(n_jobs=5)]: Done 114 tasks      | elapsed:    3.4s\n",
      "[Parallel(n_jobs=5)]: Done 140 tasks      | elapsed:    4.4s\n",
      "[Parallel(n_jobs=5)]: Done 166 tasks      | elapsed:    5.3s\n",
      "[Parallel(n_jobs=5)]: Done 196 tasks      | elapsed:    6.4s\n",
      "[Parallel(n_jobs=5)]: Done 210 out of 219 | elapsed:    6.9s remaining:    0.3s\n",
      "[Parallel(n_jobs=5)]: Done 219 out of 219 | elapsed:    7.2s finished\n"
     ]
    }
   ],
   "source": [
    "estimates = curve_inference.infer_Ne(all_n_lineages, xs, n_jobs=5)"
   ]
  },
  {
   "cell_type": "code",
   "execution_count": null,
   "id": "aef30ce7-3aae-4ac5-be97-3aac1df9a149",
   "metadata": {},
   "outputs": [],
   "source": []
  },
  {
   "cell_type": "code",
   "execution_count": 37,
   "id": "e6db9801-3667-4148-a1d6-96a9001a3eb4",
   "metadata": {
    "tags": []
   },
   "outputs": [],
   "source": [
    "N = 1e4\n",
    "s = 1e-2\n",
    "Ud = s * 2\n",
    "\n",
    "t1 = np.arange(0, max_generations)\n",
    "t2 = np.arange(0, max_generations)\n",
    "\n",
    "theory_Ne = effective_pop_size_pairwise(t1, t2, N, Ud, s)\n",
    "\n"
   ]
  },
  {
   "cell_type": "code",
   "execution_count": 38,
   "id": "c98ed124-444c-4c3e-9ca7-4bd36a237d82",
   "metadata": {
    "tags": []
   },
   "outputs": [
    {
     "data": {
      "text/plain": [
       "(0.0, 10000.0)"
      ]
     },
     "execution_count": 38,
     "metadata": {},
     "output_type": "execute_result"
    },
    {
     "data": {
      "image/png": "[encoded data removed]",
      "text/plain": [
       "<Figure size 2000x500 with 1 Axes>"
      ]
     },
     "metadata": {},
     "output_type": "display_data"
    }
   ],
   "source": [
    "plt.figure(figsize=(20, 5))\n",
    "plt.plot(xs[:-1], estimates, '.')\n",
    "#plt.plot(t1, theory_Ne)\n",
    "plt.xlim(0,500)\n",
    "plt.ylim(0, 10000)"
   ]
  },
  {
   "cell_type": "code",
   "execution_count": 39,
   "id": "750d45be-9481-4cf0-a4f5-0c15fc9d70cd",
   "metadata": {
    "tags": []
   },
   "outputs": [
    {
     "name": "stdout",
     "output_type": "stream",
     "text": [
      "0 9905.61609236943\n",
      "5 9428.300955041479\n",
      "10 9153.034557791218\n",
      "15 8591.952163049205\n",
      "20 7941.489017333338\n",
      "25 7099.908353056399\n",
      "30 6364.2746306943045\n",
      "35 5975.4133613870345\n",
      "40 5435.932173445109\n",
      "45 5297.100497581731\n",
      "50 4995.127875453717\n",
      "55 4682.609818885737\n",
      "60 4275.481803500735\n",
      "65 4035.6928303850164\n",
      "70 3940.860915305043\n",
      "75 3346.52353356774\n",
      "80 3090.6395440445813\n",
      "85 3386.10004603031\n",
      "90 2953.005073046241\n",
      "95 nan\n",
      "100 7794.295187473304\n",
      "105 7297.561721422276\n",
      "110 6876.84475572243\n",
      "115 6131.087504106996\n",
      "120 6094.317176516433\n",
      "125 5510.1571203484145\n",
      "130 5229.912930720626\n",
      "135 4952.311377487476\n",
      "140 4821.382579991041\n",
      "145 4791.790229516277\n",
      "150 4305.600514801692\n",
      "155 3955.0575810584355\n",
      "160 4044.90634468435\n",
      "165 3597.493566845302\n",
      "170 3658.9151575812016\n",
      "175 3423.6209284548845\n",
      "180 3174.0730961588074\n",
      "185 3225.3901427953706\n",
      "190 2823.2648915216328\n",
      "195 2762.1218207779416\n",
      "200 2658.2939756081796\n",
      "210 2376.1937497701474\n",
      "220 2343.2396373970932\n",
      "230 2267.8428836516696\n",
      "240 2191.8532492338154\n",
      "250 2041.7267863831757\n",
      "260 1996.6924183214385\n",
      "270 1945.6681019761315\n",
      "280 1572.6606721885391\n",
      "290 1639.5493657834118\n",
      "300 1800.061356298105\n",
      "310 1798.586699643766\n",
      "320 1690.92247736173\n",
      "330 1464.6017637393375\n",
      "340 1588.6136921979523\n",
      "350 1583.1854374302045\n",
      "360 1400.2211660080925\n",
      "370 1546.3485823804829\n",
      "380 1514.135265320175\n",
      "390 1455.3424357421673\n",
      "400 1406.2746123578574\n",
      "410 1585.1428636667526\n",
      "420 1557.8068892383792\n",
      "430 1359.806975120139\n",
      "440 1742.479205383609\n",
      "450 1566.5342448087533\n",
      "460 1531.8262188087542\n",
      "470 1513.5116239233835\n",
      "480 1515.6190669047228\n",
      "490 2016.9275383575005\n",
      "500 1317.060317653208\n",
      "510 1981.6924980961103\n",
      "520 1739.354366885882\n",
      "530 1607.6790828737574\n",
      "540 1291.30316002837\n",
      "550 1677.6760508806133\n",
      "560 1700.3947388696113\n",
      "570 1010.4752230705402\n",
      "580 1248.0032130913978\n",
      "590 1968.7847484248\n",
      "600 2815.989254831232\n",
      "610 838.2440946388332\n",
      "620 1481.1609186467404\n",
      "630 1726.5503447369988\n",
      "640 1205.3242685538598\n",
      "650 1442.2384941380844\n",
      "660 2065.262680224688\n",
      "670 3457.9857300293347\n",
      "680 1740.5910767998964\n",
      "690 1624.102053063267\n",
      "700 1373.1835408367506\n",
      "710 1689.0714069875182\n",
      "720 1055.183004725633\n",
      "730 1663.0271804108436\n",
      "740 3964.993925057518\n",
      "750 3268.587089022632\n",
      "760 1612.3129542293884\n",
      "770 1236.372648728761\n",
      "780 1746.8048898902766\n",
      "790 1814.6817830350185\n",
      "800 1256.6208070508414\n",
      "810 1317.5236752038672\n",
      "820 2469.5391793477775\n",
      "830 2965.033894107023\n",
      "840 1763.9858768042182\n",
      "850 1192.1364705789542\n",
      "860 nan\n",
      "870 1269.2726537788785\n",
      "880 1915.4986860695128\n",
      "890 1604.658349319307\n",
      "900 3105.3631873478485\n",
      "910 2729.7668171803844\n",
      "920 1011.1352926315265\n",
      "930 2891.7904364958276\n",
      "940 3775.813099764692\n",
      "950 3586.8241256008896\n",
      "960 2896.228790657871\n",
      "970 2089.418487762854\n",
      "980 1755.6456509867596\n",
      "990 1569.194549985674\n",
      "1000 1540.2470170584227\n",
      "1010 3773.469943518891\n",
      "1020 3713.1856436100966\n",
      "1030 1713.7844195698\n",
      "1040 1622.683552918561\n",
      "1050 3530.1961518350045\n",
      "1060 998.7782277463324\n",
      "1070 1585.0520043384583\n",
      "1080 3317.514112201536\n",
      "1090 1624.944664053778\n",
      "1100 2308.961422133909\n",
      "1110 1247.2999540455812\n",
      "1120 1990.6264466425291\n",
      "1130 844.1249197379544\n",
      "1140 1506.86926669671\n",
      "1150 588.142098799576\n",
      "1160 5660.139975177385\n",
      "1170 2639.8562109231952\n",
      "1180 1717.186854069401\n",
      "1190 2552.5390379676346\n",
      "1200 2923.213908008101\n",
      "1210 nan\n",
      "1220 1669.7402214353017\n",
      "1230 2440.3687638608208\n",
      "1240 4844.941913661107\n",
      "1250 2411.5548371021896\n",
      "1260 2384.8076177862786\n",
      "1270 4714.796596569292\n",
      "1280 7982.229768572689\n",
      "1290 2270.4643140939256\n",
      "1300 962.0118840242841\n",
      "1310 2210.8717772166933\n",
      "1320 1550.8227678126705\n",
      "1330 6926.677390680438\n",
      "1340 2131.132625504814\n",
      "1350 1473.3354852785606\n",
      "1360 3127.8008283852846\n",
      "1370 1033.2728151344381\n",
      "1380 12873.996433415454\n",
      "1390 nan\n",
      "1400 3949.4228899170957\n",
      "1410 1265.0483050515336\n",
      "1420 1916.0537841277337\n",
      "1430 1886.4146506904542\n",
      "1440 3749.6271435668586\n",
      "1450 1244.0535189928275\n",
      "1460 505.31084801900545\n",
      "1470 nan\n",
      "1480 3487.8667028077216\n",
      "1490 3468.415223573402\n",
      "1500 nan\n",
      "1510 1720.011165347139\n",
      "1520 1677.2126987182316\n",
      "1530 1645.8354441303188\n",
      "1540 nan\n",
      "1550 nan\n",
      "1560 3267.2789115594956\n",
      "1570 3240.775113172937\n",
      "1580 649.5599404258872\n",
      "1590 3106.481656208493\n",
      "1600 3075.740000859374\n",
      "1610 886.8256602729571\n",
      "1620 1484.3145151356175\n",
      "1630 1455.6562708950248\n",
      "1640 919.9803316935049\n",
      "1650 1390.9529503128176\n",
      "1660 2733.144792620585\n",
      "1670 2702.302032114759\n",
      "1680 893.5525254807079\n",
      "1690 1309.2178093964949\n",
      "1700 nan\n",
      "1710 1277.5771204100272\n",
      "1720 2526.6048729106174\n",
      "1730 1251.6597304782406\n",
      "1740 1223.9716417102295\n",
      "1750 nan\n",
      "1760 2044.6905808080023\n",
      "1770 1185.5004988903584\n",
      "1780 nan\n",
      "1790 nan\n",
      "1800 nan\n",
      "1810 1169.4370795702828\n",
      "1820 2307.9041670724287\n",
      "1830 2292.095496469908\n",
      "1840 2269.2069386998983\n",
      "1850 2227.55085708071\n",
      "1860 2210.886446436531\n",
      "1870 1697.099119663021\n",
      "1880 2169.1845416481874\n",
      "1890 nan\n",
      "1900 nan\n",
      "1910 nan\n",
      "1920 1170.0372558304755\n",
      "1930 1055.4450033630792\n",
      "1940 2085.2442750550204\n",
      "1950 1019.5967810960607\n",
      "1960 nan\n",
      "1970 nan\n",
      "1980 nan\n"
     ]
    }
   ],
   "source": [
    "for x,y in zip(xs[:-1], estimates): print(x,y)"
   ]
  },
  {
   "cell_type": "code",
   "execution_count": null,
   "id": "78b23942-3a45-4196-89f0-c795dd10b9a2",
   "metadata": {},
   "outputs": [],
   "source": []
  },
  {
   "cell_type": "markdown",
   "id": "97015173-0ebe-45ed-9c82-ddf7235d0677",
   "metadata": {},
   "source": [
    "# Run manually on Bianca's trees"
   ]
  },
  {
   "cell_type": "code",
   "execution_count": 4,
   "id": "2c45d11b-cee0-4438-8485-b61d6a365e85",
   "metadata": {
    "tags": []
   },
   "outputs": [],
   "source": [
    "out1_str = open(\"/rds/project/rds-8b3VcZwY7rY/projects/dated_selection/data/from_bianca_20230623/out1.newick\").read()\n",
    "out10_str = open(\"/rds/project/rds-8b3VcZwY7rY/projects/dated_selection/data/from_bianca_20230623/out10.newick\").read()"
   ]
  },
  {
   "cell_type": "code",
   "execution_count": 5,
   "id": "69f1a862-d0eb-4a52-87c9-b6a5066dc5a8",
   "metadata": {
    "tags": []
   },
   "outputs": [],
   "source": [
    "import tsconvert"
   ]
  },
  {
   "cell_type": "code",
   "execution_count": 7,
   "id": "9c874042-22a2-4e0e-ab96-8e31dfc7d722",
   "metadata": {},
   "outputs": [],
   "source": [
    "out1_ts = tsconvert.from_newick(out1_str)\n",
    "out10_ts = tsconvert.from_newick(out10_str)"
   ]
  },
  {
   "cell_type": "code",
   "execution_count": 33,
   "id": "302e42eb-fd14-4d37-a3d8-8c38eb4c67a4",
   "metadata": {
    "tags": []
   },
   "outputs": [],
   "source": [
    "out1_n_lineages = extract_tree_stats.get_lineages(out1_ts, 4000, [0, 1000], [100, 100])\n",
    "out10_n_lineages = extract_tree_stats.get_lineages(out10_ts, 4000, [0, 100], [100, 100])"
   ]
  },
  {
   "cell_type": "code",
   "execution_count": 34,
   "id": "28fd6b0b-4f0b-4cc4-b9a1-67d82bcaf1de",
   "metadata": {
    "tags": []
   },
   "outputs": [
    {
     "data": {
      "image/png": "[encoded data removed]",
      "text/plain": [
       "<Figure size 640x480 with 1 Axes>"
      ]
     },
     "metadata": {},
     "output_type": "display_data"
    }
   ],
   "source": [
    "plt.plot(out1_n_lineages);\n",
    "plt.plot(out10_n_lineages);"
   ]
  },
  {
   "cell_type": "code",
   "execution_count": 49,
   "id": "b27d465e-fcd1-4a4f-8812-8eb444b63785",
   "metadata": {
    "tags": []
   },
   "outputs": [],
   "source": [
    "max_generations = 4000\n",
    "\n",
    "xs = np.concatenate([\n",
    "    np.arange(0, 200, 10), \n",
    "    np.arange(200, 1000, 50), \n",
    "    np.arange(1000, 1200, 10), \n",
    "    np.arange(1200, max_generations, 50), \n",
    "])\n"
   ]
  },
  {
   "cell_type": "code",
   "execution_count": 50,
   "id": "53c24b26-a6ee-4448-96c8-d3e5ab6bc628",
   "metadata": {
    "tags": []
   },
   "outputs": [
    {
     "name": "stderr",
     "output_type": "stream",
     "text": [
      "[Parallel(n_jobs=5)]: Using backend LokyBackend with 5 concurrent workers.\n",
      "[Parallel(n_jobs=5)]: Batch computation too fast (0.0062s.) Setting batch_size=2.\n",
      "[Parallel(n_jobs=5)]: Done   3 tasks      | elapsed:    0.0s\n",
      "[Parallel(n_jobs=5)]: Done   8 tasks      | elapsed:    0.0s\n",
      "[Parallel(n_jobs=5)]: Batch computation too fast (0.0090s.) Setting batch_size=4.\n",
      "[Parallel(n_jobs=5)]: Done  20 tasks      | elapsed:    0.0s\n",
      "[Parallel(n_jobs=5)]: Batch computation too fast (0.0123s.) Setting batch_size=8.\n",
      "[Parallel(n_jobs=5)]: Done  38 tasks      | elapsed:    0.0s\n",
      "[Parallel(n_jobs=5)]: Done  66 out of 111 | elapsed:    0.0s remaining:    0.0s\n",
      "[Parallel(n_jobs=5)]: Done  78 out of 111 | elapsed:    0.0s remaining:    0.0s\n",
      "[Parallel(n_jobs=5)]: Done 111 out of 111 | elapsed:    0.1s finished\n"
     ]
    }
   ],
   "source": [
    "estimates = curve_inference.infer_Ne(out1_n_lineages[np.newaxis,:], xs, n_jobs=5)"
   ]
  },
  {
   "cell_type": "code",
   "execution_count": 51,
   "id": "30d56d4c-1869-4f67-ba19-a41c96d751a5",
   "metadata": {
    "tags": []
   },
   "outputs": [
    {
     "data": {
      "text/plain": [
       "(0.0, 10000.0)"
      ]
     },
     "execution_count": 51,
     "metadata": {},
     "output_type": "execute_result"
    },
    {
     "data": {
      "image/png": "[encoded data removed]",
      "text/plain": [
       "<Figure size 2000x500 with 1 Axes>"
      ]
     },
     "metadata": {},
     "output_type": "display_data"
    }
   ],
   "source": [
    "plt.figure(figsize=(20, 5))\n",
    "plt.plot(xs[:-1], estimates, '.')\n",
    "#plt.plot(t1, theory_Ne)\n",
    "plt.xlim(-1, max_generations)\n",
    "plt.ylim(0, 10000)"
   ]
  },
  {
   "cell_type": "code",
   "execution_count": 47,
   "id": "c0fcf1b2-3e68-415f-b332-48e6c330abc3",
   "metadata": {
    "tags": []
   },
   "outputs": [
    {
     "data": {
      "text/plain": [
       "array([4916.78084756,           nan,           nan,           nan,\n",
       "       4818.12612789,           nan,           nan, 4720.44487405,\n",
       "       4623.78574723,           nan])"
      ]
     },
     "execution_count": 47,
     "metadata": {},
     "output_type": "execute_result"
    }
   ],
   "source": [
    "estimates[:10]"
   ]
  },
  {
   "cell_type": "code",
   "execution_count": null,
   "id": "c60bdb41-d79e-40fd-807f-01d3271f53fe",
   "metadata": {},
   "outputs": [],
   "source": []
  },
  {
   "cell_type": "code",
   "execution_count": 45,
   "id": "ede7c737-41fa-4313-b651-b87efb2b3ede",
   "metadata": {
    "tags": []
   },
   "outputs": [
    {
     "data": {
      "text/plain": [
       "array([[0, 1, 2],\n",
       "       [1, 2, 3],\n",
       "       [2, 3, 4],\n",
       "       [3, 4, 5],\n",
       "       [4, 5, 6],\n",
       "       [5, 6, 7],\n",
       "       [6, 7, 8],\n",
       "       [7, 8, 9]])"
      ]
     },
     "execution_count": 45,
     "metadata": {},
     "output_type": "execute_result"
    }
   ],
   "source": [
    "np.lib.stride_tricks.sliding_window_view(np.arange(10), window_shape=(3,))"
   ]
  },
  {
   "cell_type": "code",
   "execution_count": null,
   "id": "2cc505a3-fa77-4bcd-ad29-3d02f295d630",
   "metadata": {},
   "outputs": [],
   "source": []
  }
 ],
 "metadata": {
  "kernelspec": {
   "display_name": "dated_selection",
   "language": "python",
   "name": "dated_selection"
  },
  "language_info": {
   "codemirror_mode": {
    "name": "ipython",
    "version": 3
   },
   "file_extension": ".py",
   "mimetype": "text/x-python",
   "name": "python",
   "nbconvert_exporter": "python",
   "pygments_lexer": "ipython3",
   "version": "3.10.10"
  }
 },
 "nbformat": 4,
 "nbformat_minor": 5
}
