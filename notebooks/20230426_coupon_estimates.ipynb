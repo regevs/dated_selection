{
 "cells": [
  {
   "cell_type": "code",
   "execution_count": 1,
   "id": "51375e11-bb2a-40e1-8635-6775881b282a",
   "metadata": {
    "tags": []
   },
   "outputs": [],
   "source": [
    "%load_ext autoreload\n",
    "%autoreload 2"
   ]
  },
  {
   "cell_type": "code",
   "execution_count": 2,
   "id": "9c464649-b96f-487c-991d-28a491c2735c",
   "metadata": {
    "tags": []
   },
   "outputs": [],
   "source": [
    "import numpy as np\n",
    "import pandas as pd\n",
    "import matplotlib.pyplot as plt\n",
    "import pyslim, tskit\n",
    "import itertools\n",
    "import scipy.special\n",
    "import os, subprocess, sys\n",
    "from Bio import Phylo\n",
    "from io import StringIO\n",
    "import msprime\n",
    "import tqdm\n",
    "from pathlib import Path\n",
    "\n",
    "sys.path.append(str(Path(os.getcwd()).parent))"
   ]
  },
  {
   "cell_type": "code",
   "execution_count": 3,
   "id": "b67906fe-6159-4882-a809-6456d47afee3",
   "metadata": {
    "tags": []
   },
   "outputs": [],
   "source": [
    "from src import extract_tree_stats, curve_inference"
   ]
  },
  {
   "cell_type": "code",
   "execution_count": null,
   "id": "ddf8d178-0ff2-4e0d-bf8e-58cb8da58243",
   "metadata": {},
   "outputs": [],
   "source": []
  },
  {
   "cell_type": "code",
   "execution_count": null,
   "id": "618bf3da-66e6-482b-b067-43c86e156031",
   "metadata": {},
   "outputs": [],
   "source": []
  },
  {
   "cell_type": "code",
   "execution_count": 4,
   "id": "0300280f-1ed9-4470-b1b8-38950465b31c",
   "metadata": {
    "tags": []
   },
   "outputs": [],
   "source": [
    "def effective_pop_size_pairwise(t1, t2, N, Ud, s):\n",
    "    \"\"\"\n",
    "    t1 and t2 can be vectors\n",
    "    \"\"\"\n",
    "    t1 = np.maximum(t1, -1)\n",
    "    t2 = np.maximum(t2, -1)\n",
    "    \n",
    "    prob_coal = 1/N * np.exp(Ud/s * (1 - np.exp(-s * t1)) * (1 - np.exp(-s * t2)))\n",
    "    \n",
    "    # support negative times\n",
    "    Ne = np.where((t1 >= 0) & (t2 >= 0), 1/prob_coal, np.nan)\n",
    "    \n",
    "    return Ne\n",
    "    \n",
    " \n",
    "    "
   ]
  },
  {
   "cell_type": "markdown",
   "id": "8f7c9028-8b4c-43d5-9545-0efa9f5ef832",
   "metadata": {},
   "source": [
    "# The first plot from Desai paper"
   ]
  },
  {
   "cell_type": "code",
   "execution_count": 127,
   "id": "e741665b-f014-497e-8ae3-536ea8ecaf79",
   "metadata": {
    "tags": []
   },
   "outputs": [],
   "source": [
    "target_path = \"/rds/project/rds-8b3VcZwY7rY/projects/dated_selection/data/first_desai_20230506/\""
   ]
  },
  {
   "cell_type": "code",
   "execution_count": 135,
   "id": "38f7e3a2-c0c8-4539-8809-017fc5f47d53",
   "metadata": {
    "tags": []
   },
   "outputs": [
    {
     "name": "stderr",
     "output_type": "stream",
     "text": [
      " 87%|█████████████████████████████████████████████████████████████████████████████████████████████████████████████▏                | 65/75 [1:50:22<16:58, 101.88s/it]\n",
      "  0%|                                                                                                                                        | 0/75 [1:50:28<?, ?it/s]\n"
     ]
    }
   ],
   "source": [
    "all_n_lineages = curve_inference.read_all_n_lineages(target_path)"
   ]
  },
  {
   "cell_type": "code",
   "execution_count": 158,
   "id": "e9e1bae4-e61f-42d7-a529-bd854e5486e7",
   "metadata": {
    "tags": []
   },
   "outputs": [],
   "source": [
    "max_generations = 40000\n",
    "\n",
    "xs = np.concatenate([np.arange(0,500,10), np.arange(500, 2000, 100), np.arange(2000, 40000, 500)])\n"
   ]
  },
  {
   "cell_type": "code",
   "execution_count": 159,
   "id": "18f5871f-29e7-4b1a-84c6-a570411d95ba",
   "metadata": {
    "tags": []
   },
   "outputs": [],
   "source": [
    "estimates = curve_inference.infer_Ne(all_n_lineages, xs)"
   ]
  },
  {
   "cell_type": "code",
   "execution_count": 160,
   "id": "6d834708-43ad-4f99-b76a-7f989053b728",
   "metadata": {
    "tags": []
   },
   "outputs": [],
   "source": [
    "N = 1e4\n",
    "s = 1e-2\n",
    "Ud = s * 2\n",
    "\n",
    "t1 = np.arange(0, max_generations)\n",
    "t2 = np.arange(0, max_generations)\n",
    "\n",
    "theory_Ne = effective_pop_size_pairwise(t1, t2, N, Ud, s)\n",
    "\n"
   ]
  },
  {
   "cell_type": "code",
   "execution_count": 161,
   "id": "08cdd9f9-ad12-4a3e-b372-f3edaa508840",
   "metadata": {
    "tags": []
   },
   "outputs": [
    {
     "data": {
      "text/plain": [
       "(0.0, 10000.0)"
      ]
     },
     "execution_count": 161,
     "metadata": {},
     "output_type": "execute_result"
    },
    {
     "data": {
      "image/png": "[encoded data removed]",
      "text/plain": [
       "<Figure size 640x480 with 1 Axes>"
      ]
     },
     "metadata": {},
     "output_type": "display_data"
    }
   ],
   "source": [
    "plt.plot(xs, estimates, '.')\n",
    "plt.plot(t1, theory_Ne)\n",
    "plt.xlim(0,2000)\n",
    "plt.ylim(0, 10000)"
   ]
  },
  {
   "cell_type": "markdown",
   "id": "4599bceb-cdae-4d55-a334-cd5518711174",
   "metadata": {
    "tags": []
   },
   "source": [
    "# Two point sampling scheme"
   ]
  },
  {
   "cell_type": "code",
   "execution_count": 5,
   "id": "1bbd7fb4-f2cd-4677-a2a1-3ba3566f2b6d",
   "metadata": {
    "tags": []
   },
   "outputs": [],
   "source": [
    "target_path = \"/rds/project/rds-8b3VcZwY7rY/projects/dated_selection/data/two_times_100_20230506/\""
   ]
  },
  {
   "cell_type": "code",
   "execution_count": 6,
   "id": "1880576f-eb72-4b6b-b0c0-b3d808437f21",
   "metadata": {
    "tags": []
   },
   "outputs": [],
   "source": [
    "all_n_lineages = curve_inference.read_all_n_lineages(target_path)"
   ]
  },
  {
   "cell_type": "code",
   "execution_count": 20,
   "id": "82f04141-d4ee-4b33-8d45-dfb022f4383c",
   "metadata": {
    "tags": []
   },
   "outputs": [],
   "source": [
    "max_generations = 20000\n",
    "\n",
    "xs = np.concatenate([\n",
    "    np.arange(0, 500, 50), \n",
    "    np.arange(500, 2000, 100), \n",
    "    np.arange(2000, 10000, 500),\n",
    "    np.arange(10000, 10500, 50), \n",
    "    np.arange(10500, 12000, 100), \n",
    "    np.arange(12000, max_generations, 1000),\n",
    "])\n"
   ]
  },
  {
   "cell_type": "code",
   "execution_count": null,
   "id": "4dc0a6a4-f556-4d44-943b-3bc8e5d0b3ac",
   "metadata": {},
   "outputs": [],
   "source": []
  },
  {
   "cell_type": "code",
   "execution_count": 21,
   "id": "c4109c29-510a-402e-958e-6b13956aa8e2",
   "metadata": {
    "tags": []
   },
   "outputs": [
    {
     "name": "stderr",
     "output_type": "stream",
     "text": [
      "[Parallel(n_jobs=5)]: Using backend LokyBackend with 5 concurrent workers.\n",
      "[Parallel(n_jobs=5)]: Done   3 tasks      | elapsed:   13.0s\n",
      "[Parallel(n_jobs=5)]: Done   8 tasks      | elapsed:   22.3s\n",
      "[Parallel(n_jobs=5)]: Done  15 tasks      | elapsed:   44.8s\n",
      "[Parallel(n_jobs=5)]: Done  22 tasks      | elapsed:  1.2min\n",
      "[Parallel(n_jobs=5)]: Done  31 tasks      | elapsed:  4.0min\n",
      "[Parallel(n_jobs=5)]: Done  40 tasks      | elapsed:  5.6min\n",
      "[Parallel(n_jobs=5)]: Done  51 tasks      | elapsed:  6.3min\n",
      "[Parallel(n_jobs=5)]: Done  62 tasks      | elapsed:  7.0min\n",
      "[Parallel(n_jobs=5)]: Done  73 out of  73 | elapsed: 12.9min finished\n"
     ]
    }
   ],
   "source": [
    "estimates = curve_inference.infer_Ne(all_n_lineages, xs, n_jobs=5)"
   ]
  },
  {
   "cell_type": "code",
   "execution_count": null,
   "id": "da9ad47d-2d51-4c88-a056-458adbabb79c",
   "metadata": {},
   "outputs": [],
   "source": []
  },
  {
   "cell_type": "code",
   "execution_count": 160,
   "id": "a0dbdddc-ad73-4626-b19f-7faf4e73bb4b",
   "metadata": {
    "tags": []
   },
   "outputs": [],
   "source": [
    "N = 1e4\n",
    "s = 1e-2\n",
    "Ud = s * 2\n",
    "\n",
    "t1 = np.arange(0, max_generations)\n",
    "t2 = np.arange(0, max_generations)\n",
    "\n",
    "theory_Ne = effective_pop_size_pairwise(t1, t2, N, Ud, s)\n",
    "\n"
   ]
  },
  {
   "cell_type": "code",
   "execution_count": 24,
   "id": "7a5def0b-73f0-4917-a0ce-23653e8da1c0",
   "metadata": {
    "tags": []
   },
   "outputs": [
    {
     "data": {
      "text/plain": [
       "(0.0, 10000.0)"
      ]
     },
     "execution_count": 24,
     "metadata": {},
     "output_type": "execute_result"
    },
    {
     "data": {
      "image/png": "[encoded data removed]",
      "text/plain": [
       "<Figure size 2000x500 with 1 Axes>"
      ]
     },
     "metadata": {},
     "output_type": "display_data"
    }
   ],
   "source": [
    "plt.figure(figsize=(20, 5))\n",
    "plt.plot(xs[:-1], estimates, '.')\n",
    "#plt.plot(t1, theory_Ne)\n",
    "plt.xlim(0,20000)\n",
    "plt.ylim(0, 10000)"
   ]
  },
  {
   "cell_type": "code",
   "execution_count": 28,
   "id": "52b25212-5ebe-48a9-bc4e-a351cd79cbf9",
   "metadata": {
    "tags": []
   },
   "outputs": [
    {
     "name": "stderr",
     "output_type": "stream",
     "text": [
      "[Parallel(n_jobs=-1)]: Using backend LokyBackend with 76 concurrent workers.\n",
      "[Parallel(n_jobs=-1)]: Done   7 out of  50 | elapsed:    6.7s remaining:   41.1s\n",
      "[Parallel(n_jobs=-1)]: Done  13 out of  50 | elapsed:    6.7s remaining:   19.1s\n",
      "[Parallel(n_jobs=-1)]: Done  19 out of  50 | elapsed:    6.7s remaining:   11.0s\n",
      "[Parallel(n_jobs=-1)]: Done  25 out of  50 | elapsed:    7.2s remaining:    7.2s\n",
      "[Parallel(n_jobs=-1)]: Done  31 out of  50 | elapsed:    7.3s remaining:    4.5s\n",
      "[Parallel(n_jobs=-1)]: Done  37 out of  50 | elapsed:    7.3s remaining:    2.6s\n",
      "[Parallel(n_jobs=-1)]: Done  43 out of  50 | elapsed:    7.3s remaining:    1.2s\n",
      "[Parallel(n_jobs=-1)]: Done  50 out of  50 | elapsed: 31.4min finished\n"
     ]
    }
   ],
   "source": [
    "fine_estimates = curve_inference.infer_Ne(all_n_lineages, np.arange(10000,10050), n_jobs=-1)"
   ]
  },
  {
   "cell_type": "code",
   "execution_count": 29,
   "id": "32651d53-7779-43aa-9ea5-1f09cfb410fe",
   "metadata": {
    "tags": []
   },
   "outputs": [
    {
     "data": {
      "text/plain": [
       "[<matplotlib.lines.Line2D at 0x14f87f27a6b0>]"
      ]
     },
     "execution_count": 29,
     "metadata": {},
     "output_type": "execute_result"
    },
    {
     "data": {
      "image/png": "[encoded data removed]",
      "text/plain": [
       "<Figure size 640x480 with 1 Axes>"
      ]
     },
     "metadata": {},
     "output_type": "display_data"
    }
   ],
   "source": [
    "plt.plot(fine_estimates)"
   ]
  },
  {
   "cell_type": "code",
   "execution_count": null,
   "id": "78b23942-3a45-4196-89f0-c795dd10b9a2",
   "metadata": {},
   "outputs": [],
   "source": []
  },
  {
   "cell_type": "code",
   "execution_count": null,
   "id": "9c874042-22a2-4e0e-ab96-8e31dfc7d722",
   "metadata": {},
   "outputs": [],
   "source": []
  }
 ],
 "metadata": {
  "kernelspec": {
   "display_name": "dated_selection",
   "language": "python",
   "name": "dated_selection"
  },
  "language_info": {
   "codemirror_mode": {
    "name": "ipython",
    "version": 3
   },
   "file_extension": ".py",
   "mimetype": "text/x-python",
   "name": "python",
   "nbconvert_exporter": "python",
   "pygments_lexer": "ipython3",
   "version": "3.10.10"
  }
 },
 "nbformat": 4,
 "nbformat_minor": 5
}
