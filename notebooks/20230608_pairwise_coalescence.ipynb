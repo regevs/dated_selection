{
 "cells": [
  {
   "cell_type": "code",
   "execution_count": 1,
   "id": "4ef849e3-5cdf-4c81-856e-c4e2faee2560",
   "metadata": {
    "tags": []
   },
   "outputs": [],
   "source": [
    "%load_ext autoreload\n",
    "%autoreload 2"
   ]
  },
  {
   "cell_type": "code",
   "execution_count": 2,
   "id": "2871a80d-5046-4603-81ec-13bfd6e4f5a8",
   "metadata": {
    "tags": []
   },
   "outputs": [],
   "source": [
    "import numpy as np\n",
    "import pandas as pd\n",
    "import matplotlib.pyplot as plt\n",
    "import pyslim, tskit\n",
    "import itertools\n",
    "import scipy.special\n",
    "import os, subprocess, sys\n",
    "from Bio import Phylo\n",
    "from io import StringIO\n",
    "import msprime\n",
    "import tqdm\n",
    "from pathlib import Path\n",
    "\n",
    "sys.path.append(str(Path(os.getcwd()).parent))"
   ]
  },
  {
   "cell_type": "code",
   "execution_count": 3,
   "id": "2a677a47-6513-4e8c-bbec-3f6d3a0d98f7",
   "metadata": {
    "tags": []
   },
   "outputs": [],
   "source": [
    "from src import extract_tree_stats, curve_inference"
   ]
  },
  {
   "cell_type": "code",
   "execution_count": null,
   "id": "ef34cbc0-9f40-4339-9475-8217f76934f1",
   "metadata": {},
   "outputs": [],
   "source": []
  },
  {
   "cell_type": "markdown",
   "id": "54ee283c-fa58-439c-b570-4998f5a8470d",
   "metadata": {},
   "source": [
    "# Write a function to look at many pairwise coalescences"
   ]
  },
  {
   "cell_type": "code",
   "execution_count": 7,
   "id": "077b15a2-ee09-47a2-80d3-86e3645cef64",
   "metadata": {
    "tags": []
   },
   "outputs": [],
   "source": [
    "import tskit, pyslim"
   ]
  },
  {
   "cell_type": "code",
   "execution_count": 5,
   "id": "28035d7c-d777-488d-9e98-b610cd2a646d",
   "metadata": {
    "tags": []
   },
   "outputs": [],
   "source": [
    "trees = tskit.load(\"/rds/project/rds-8b3VcZwY7rY/projects/dated_selection/data/two_times_100_20230522/seed=0/output.sample=7.trees\")"
   ]
  },
  {
   "cell_type": "code",
   "execution_count": 42,
   "id": "e031bd68-fddb-47bb-b251-35a02b19e8ff",
   "metadata": {
    "tags": []
   },
   "outputs": [],
   "source": [
    "sample_times = [1000, 1000]\n",
    "sample_sizes = [1000, 1000]\n",
    "n_pairs = 300000\n",
    "\n",
    "ind_sets = [np.random.choice(pyslim.individuals_alive_at(trees, sample_time), sample_size) \\\n",
    "    for sample_size, sample_time in zip(sample_sizes, sample_times)]\n",
    "\n",
    "pairwise_coals = [trees.first().tmrca(np.random.choice(ind_sets[0]), np.random.choice(ind_sets[1])) for n_pair in range(n_pairs)]\n",
    "\n"
   ]
  },
  {
   "cell_type": "code",
   "execution_count": 43,
   "id": "7d038132-b002-4d9d-b0ad-e8389af234aa",
   "metadata": {
    "tags": []
   },
   "outputs": [
    {
     "data": {
      "image/png": "[encoded data removed]",
      "text/plain": [
       "<Figure size 640x480 with 1 Axes>"
      ]
     },
     "metadata": {},
     "output_type": "display_data"
    }
   ],
   "source": [
    "plt.hist(pairwise_coals, bins=100, log=True);"
   ]
  },
  {
   "cell_type": "code",
   "execution_count": 22,
   "id": "b8fd53d4-233d-4e8c-befd-c8c5884e4b71",
   "metadata": {
    "tags": []
   },
   "outputs": [
    {
     "data": {
      "text/plain": [
       "4267.0"
      ]
     },
     "execution_count": 22,
     "metadata": {},
     "output_type": "execute_result"
    }
   ],
   "source": [
    "trees.first().tmrca(*sample_nodes)"
   ]
  },
  {
   "cell_type": "code",
   "execution_count": null,
   "id": "137bdb01-0db2-42eb-a846-6bb4a1b3cb80",
   "metadata": {},
   "outputs": [],
   "source": []
  }
 ],
 "metadata": {
  "kernelspec": {
   "display_name": "dated_selection",
   "language": "python",
   "name": "dated_selection"
  },
  "language_info": {
   "codemirror_mode": {
    "name": "ipython",
    "version": 3
   },
   "file_extension": ".py",
   "mimetype": "text/x-python",
   "name": "python",
   "nbconvert_exporter": "python",
   "pygments_lexer": "ipython3",
   "version": "3.10.10"
  }
 },
 "nbformat": 4,
 "nbformat_minor": 5
}
