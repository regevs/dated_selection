{
 "cells": [
  {
   "cell_type": "code",
   "execution_count": 147,
   "id": "8e1cd230-2ef1-4d5b-a283-6fffd25efaed",
   "metadata": {},
   "outputs": [],
   "source": [
    "import numpy as np\n",
    "import pandas as pd\n",
    "import matplotlib.pyplot as plt\n",
    "import pyslim, tskit\n",
    "import itertools\n",
    "import scipy.special\n",
    "import os, subprocess\n",
    "from Bio import Phylo\n",
    "from io import StringIO\n",
    "import msprime\n",
    "import tqdm"
   ]
  },
  {
   "cell_type": "code",
   "execution_count": 143,
   "id": "5ebfecba-0157-40f6-aef5-ceaf899a0583",
   "metadata": {},
   "outputs": [],
   "source": [
    "def extract_tree_sequence(tree, sample_times, sample_sizes,Ne=10000,add_neutral=False):\n",
    "    \n",
    "    num_times = len(sample_times)\n",
    "    if num_times!=len(sample_sizes): print(\"Please give the same length list for sample times and sizes.\")   \n",
    "    \n",
    "    \n",
    "    # Subsample tree\n",
    "    sample = [np.random.choice(pyslim.individuals_alive_at(tree,sample_times[i]), \n",
    "                               size = int(sample_sizes[i]), replace=False) for i in list(range(num_times))]\n",
    "    sample = np.concatenate(sample)\n",
    "    sample_nodes = [tree.individual(i).nodes[0] for i in sample]\n",
    "    # Identifying the nodes of the chosen downsample individuals. \n",
    "    ts_ds = tree.simplify(samples=sample_nodes) \n",
    "    # This writes a new tree sequence with just downsampled individuals.\n",
    "    \n",
    "    # Double check everyone has coalesced within the time frame.\n",
    "    # Recapitate if needed.\n",
    "    tsf = ts_ds.first()\n",
    "#     if len(tsf.roots) != 1 : \n",
    "#         print(\"Not everyone has coalesced within your time frame! Recapitating...\")\n",
    "#         ts_ds = pyslim.recapitate(ts_ds,\n",
    "#                 recombination_rate=0,\n",
    "#                 ancestral_Ne=Ne, random_seed=5)\n",
    "#         print(\"Successfully recapitated\")\n",
    "    \n",
    "    # Add neutral mutations if needed\n",
    "    if add_neutral:\n",
    "        next_id = pyslim.next_slim_mutation_id(ts_ds)\n",
    "        ts = msprime.sim_mutations(\n",
    "               ts_haploid,\n",
    "               rate=1e-3,    # per bp\n",
    "               model=msprime.SLiMMutationModel(type=3, next_id=next_id), # type=3 is just any mutation type unused in the simulation\n",
    "               keep=True)\n",
    "        print(f\"We now have {ts_ds.num_mutations} deleterious mutations and {tsn.num_mutations} total mutations.\")\n",
    "    else:\n",
    "        ts = ts_ds\n",
    "    \n",
    "    # Get coalescent times.\n",
    "    node_times = ts.tables.nodes.time\n",
    "    coal_times = node_times[sum(sample_sizes):] # the first ones are tips, so a bunch of 0s\n",
    "    \n",
    "    # Get mutation information.\n",
    "    mutation_times = []\n",
    "    mutation_edges = []\n",
    "    for m in ts.mutations():\n",
    "        mutation_times.append(m.metadata[\"mutation_list\"][0][\"slim_time\"])\n",
    "        mutation_edges.append(m.edge)\n",
    "    \n",
    "    return ts, coal_times, mutation_times, mutation_edges\n",
    "\n",
    "\n"
   ]
  },
  {
   "cell_type": "code",
   "execution_count": 39,
   "id": "f66b8025-0458-4868-9e10-3b863121020c",
   "metadata": {},
   "outputs": [],
   "source": [
    "trees = tskit.load(output)"
   ]
  },
  {
   "cell_type": "code",
   "execution_count": 42,
   "id": "54aa607d-be70-480a-9e04-2b638542fa00",
   "metadata": {},
   "outputs": [],
   "source": []
  },
  {
   "cell_type": "code",
   "execution_count": null,
   "id": "41d5b880-2bba-40c9-a2b2-f1999a2b8377",
   "metadata": {},
   "outputs": [],
   "source": []
  },
  {
   "cell_type": "code",
   "execution_count": null,
   "id": "500e3c1c-e5e4-4e31-bc7a-91e85ce8affb",
   "metadata": {},
   "outputs": [],
   "source": []
  },
  {
   "cell_type": "code",
   "execution_count": null,
   "id": "542568d9-5be7-4879-bb2b-0eb6f8b57a59",
   "metadata": {},
   "outputs": [],
   "source": []
  },
  {
   "cell_type": "code",
   "execution_count": 124,
   "id": "b9377536-9874-45a2-ace5-2c2ef63f8917",
   "metadata": {},
   "outputs": [],
   "source": [
    "def estimate_Ne(coal_times, grid_points, n_samples):\n",
    "    coal_times = np.concatenate([[0], coal_times])\n",
    "    n_coalescences = len(coal_times)\n",
    "    n_lineages = np.arange(n_samples, 1, -1)[:n_coalescences-1]\n",
    "    Nes = np.concatenate([np.diff(coal_times) * n_lineages * (n_lineages - 1) / 2, [np.nan]])\n",
    "    xs = np.searchsorted(coal_times, grid_points, side=\"right\")-1\n",
    "    return Nes, Nes[xs]\n"
   ]
  },
  {
   "cell_type": "code",
   "execution_count": 112,
   "id": "7fa5fb4d-03c4-463b-bfef-9bea3148d0b7",
   "metadata": {},
   "outputs": [
    {
     "data": {
      "text/plain": [
       "True"
      ]
     },
     "execution_count": 112,
     "metadata": {},
     "output_type": "execute_result"
    }
   ],
   "source": [
    "len(set(coal_times)) == len(coal_times)"
   ]
  },
  {
   "cell_type": "code",
   "execution_count": 141,
   "id": "f09ec7ea-9608-4009-b47d-d4ec01d76870",
   "metadata": {},
   "outputs": [],
   "source": [
    "grid_points = np.arange(0, 20000, 100)"
   ]
  },
  {
   "cell_type": "code",
   "execution_count": 142,
   "id": "d06dc2ab-526d-4212-b8cd-ff2799a9bad2",
   "metadata": {},
   "outputs": [
    {
     "name": "stdout",
     "output_type": "stream",
     "text": [
      "Not everyone has coalesced within your time frame! Recapitating...\n",
      "Not everyone has coalesced within your time frame! Recapitating...\n",
      "Not everyone has coalesced within your time frame! Recapitating...\n",
      "Not everyone has coalesced within your time frame! Recapitating...\n",
      "Not everyone has coalesced within your time frame! Recapitating...\n",
      "Not everyone has coalesced within your time frame! Recapitating...\n"
     ]
    }
   ],
   "source": [
    "all_grids = []\n",
    "\n",
    "sample_size = 10\n",
    "reps = 10\n",
    "\n",
    "for i in range(reps):    \n",
    "    ts, coal_times, mutation_times, mutation_edges = extract_tree_sequence(trees, sample_times=[0], sample_sizes=[sample_size])\n",
    "    Nes, grid_Nes = estimate_Ne(coal_times, grid_points, sample_size)\n",
    "    all_grids.append(grid_Nes)\n",
    "\n"
   ]
  },
  {
   "cell_type": "code",
   "execution_count": 146,
   "id": "45aeccdd-2853-4022-9e1c-73bc3d9b7498",
   "metadata": {},
   "outputs": [
    {
     "name": "stderr",
     "output_type": "stream",
     "text": [
      "/tmp/ipykernel_536333/783797664.py:1: RuntimeWarning: Mean of empty slice\n",
      "  plt.plot(grid_points, np.nanmean(np.array(all_grids), axis=0))\n"
     ]
    },
    {
     "data": {
      "text/plain": [
       "[<matplotlib.lines.Line2D at 0x14e2ffca3b20>]"
      ]
     },
     "execution_count": 146,
     "metadata": {},
     "output_type": "execute_result"
    },
    {
     "data": {
      "image/png": "[encoded data removed]",
      "text/plain": [
       "<Figure size 640x480 with 1 Axes>"
      ]
     },
     "metadata": {},
     "output_type": "display_data"
    }
   ],
   "source": [
    "plt.plot(grid_points, np.nanmean(np.array(all_grids), axis=0))"
   ]
  },
  {
   "cell_type": "markdown",
   "id": "4f32a31d-2ef7-4a4c-ac25-ca714f282bc6",
   "metadata": {},
   "source": [
    "## More trees"
   ]
  },
  {
   "cell_type": "code",
   "execution_count": 485,
   "id": "c07fd9ce-d464-40bb-a404-49de18b4bded",
   "metadata": {},
   "outputs": [],
   "source": [
    "import glob\n",
    "\n",
    "all_trees_filenames = sorted(glob.glob(\"/rds/project/rds-8b3VcZwY7rY/projects/dated_selection/data/constant_20230420/seed=*/output.trees\"))"
   ]
  },
  {
   "cell_type": "code",
   "execution_count": 486,
   "id": "3587238e-ced1-415e-9d55-4f605ae957c5",
   "metadata": {},
   "outputs": [],
   "source": [
    "def generate_grid_samples(filename, sample_size, n_reps):\n",
    "    trees = tskit.load(filename)\n",
    "    \n",
    "    all_coals = []\n",
    "    all_grids = []\n",
    "    \n",
    "\n",
    "    for i in range(n_reps):    \n",
    "        ts, coal_times, mutation_times, mutation_edges = extract_tree_sequence(trees, sample_times=[0], sample_sizes=[sample_size])\n",
    "        while (len(set(coal_times)) != len(coal_times)):\n",
    "            print(\"Multiple merger, redrawing...\")\n",
    "            ts, coal_times, mutation_times, mutation_edges = extract_tree_sequence(trees, sample_times=[0], sample_sizes=[sample_size])\n",
    "        Nes, grid_Nes = estimate_Ne(coal_times, grid_points, sample_size)\n",
    "        all_coals.append(coal_times)\n",
    "        all_grids.append(grid_Nes)\n",
    "        \n",
    "    return np.array(all_grids), all_coals\n",
    "\n",
    "\n",
    "    "
   ]
  },
  {
   "cell_type": "code",
   "execution_count": 494,
   "id": "173a04b9-dc20-420c-8d22-8fcd8813da43",
   "metadata": {},
   "outputs": [
    {
     "name": "stderr",
     "output_type": "stream",
     "text": [
      "  5%|████▉                                                                                              | 5/100 [02:43<51:43, 32.67s/it]"
     ]
    },
    {
     "name": "stdout",
     "output_type": "stream",
     "text": [
      "Multiple merger, redrawing...\n",
      "Multiple merger, redrawing...\n",
      "Multiple merger, redrawing...\n"
     ]
    },
    {
     "name": "stderr",
     "output_type": "stream",
     "text": [
      "  8%|███████▉                                                                                           | 8/100 [03:32<32:19, 21.08s/it]"
     ]
    },
    {
     "name": "stdout",
     "output_type": "stream",
     "text": [
      "Multiple merger, redrawing...\n",
      "Multiple merger, redrawing...\n"
     ]
    },
    {
     "name": "stderr",
     "output_type": "stream",
     "text": [
      " 18%|█████████████████▋                                                                                | 18/100 [09:03<45:40, 33.42s/it]"
     ]
    },
    {
     "name": "stdout",
     "output_type": "stream",
     "text": [
      "Multiple merger, redrawing...\n"
     ]
    },
    {
     "name": "stderr",
     "output_type": "stream",
     "text": [
      " 21%|████████████████████▌                                                                             | 21/100 [10:50<46:24, 35.24s/it]"
     ]
    },
    {
     "name": "stdout",
     "output_type": "stream",
     "text": [
      "Multiple merger, redrawing...\n"
     ]
    },
    {
     "name": "stderr",
     "output_type": "stream",
     "text": [
      " 22%|█████████████████████▌                                                                            | 22/100 [11:25<45:49, 35.25s/it]"
     ]
    },
    {
     "name": "stdout",
     "output_type": "stream",
     "text": [
      "Multiple merger, redrawing...\n"
     ]
    },
    {
     "name": "stderr",
     "output_type": "stream",
     "text": [
      " 29%|████████████████████████████▍                                                                     | 29/100 [15:24<40:18, 34.07s/it]"
     ]
    },
    {
     "name": "stdout",
     "output_type": "stream",
     "text": [
      "Multiple merger, redrawing...\n"
     ]
    },
    {
     "name": "stderr",
     "output_type": "stream",
     "text": [
      " 34%|█████████████████████████████████▎                                                                | 34/100 [18:13<37:12, 33.82s/it]"
     ]
    },
    {
     "name": "stdout",
     "output_type": "stream",
     "text": [
      "Multiple merger, redrawing...\n"
     ]
    },
    {
     "name": "stderr",
     "output_type": "stream",
     "text": [
      " 38%|█████████████████████████████████████▏                                                            | 38/100 [20:28<34:49, 33.70s/it]"
     ]
    },
    {
     "name": "stdout",
     "output_type": "stream",
     "text": [
      "Multiple merger, redrawing...\n"
     ]
    },
    {
     "name": "stderr",
     "output_type": "stream",
     "text": [
      " 41%|████████████████████████████████████████▏                                                         | 41/100 [22:09<32:54, 33.46s/it]"
     ]
    },
    {
     "name": "stdout",
     "output_type": "stream",
     "text": [
      "Multiple merger, redrawing...\n"
     ]
    },
    {
     "name": "stderr",
     "output_type": "stream",
     "text": [
      " 45%|████████████████████████████████████████████                                                      | 45/100 [24:21<30:29, 33.27s/it]"
     ]
    },
    {
     "name": "stdout",
     "output_type": "stream",
     "text": [
      "Multiple merger, redrawing...\n"
     ]
    },
    {
     "name": "stderr",
     "output_type": "stream",
     "text": [
      " 64%|██████████████████████████████████████████████████████████████▋                                   | 64/100 [34:54<19:58, 33.29s/it]"
     ]
    },
    {
     "name": "stdout",
     "output_type": "stream",
     "text": [
      "Multiple merger, redrawing...\n"
     ]
    },
    {
     "name": "stderr",
     "output_type": "stream",
     "text": [
      " 67%|█████████████████████████████████████████████████████████████████▋                                | 67/100 [36:34<18:14, 33.17s/it]"
     ]
    },
    {
     "name": "stdout",
     "output_type": "stream",
     "text": [
      "Multiple merger, redrawing...\n",
      "Multiple merger, redrawing...\n",
      "Multiple merger, redrawing...\n",
      "Multiple merger, redrawing...\n",
      "Multiple merger, redrawing...\n",
      "Multiple merger, redrawing...\n",
      "Multiple merger, redrawing...\n"
     ]
    },
    {
     "name": "stderr",
     "output_type": "stream",
     "text": [
      " 68%|██████████████████████████████████████████████████████████████████▋                               | 68/100 [37:09<18:05, 33.92s/it]"
     ]
    },
    {
     "name": "stdout",
     "output_type": "stream",
     "text": [
      "Multiple merger, redrawing...\n"
     ]
    },
    {
     "name": "stderr",
     "output_type": "stream",
     "text": [
      " 69%|███████████████████████████████████████████████████████████████████▌                              | 69/100 [37:42<17:24, 33.70s/it]"
     ]
    },
    {
     "name": "stdout",
     "output_type": "stream",
     "text": [
      "Multiple merger, redrawing...\n"
     ]
    },
    {
     "name": "stderr",
     "output_type": "stream",
     "text": [
      " 73%|███████████████████████████████████████████████████████████████████████▌                          | 73/100 [39:55<14:59, 33.31s/it]"
     ]
    },
    {
     "name": "stdout",
     "output_type": "stream",
     "text": [
      "Multiple merger, redrawing...\n"
     ]
    },
    {
     "name": "stderr",
     "output_type": "stream",
     "text": [
      " 74%|████████████████████████████████████████████████████████████████████████▌                         | 74/100 [40:04<11:14, 25.95s/it]"
     ]
    },
    {
     "name": "stdout",
     "output_type": "stream",
     "text": [
      "Multiple merger, redrawing...\n"
     ]
    },
    {
     "name": "stderr",
     "output_type": "stream",
     "text": [
      " 80%|██████████████████████████████████████████████████████████████████████████████▍                   | 80/100 [43:25<10:51, 32.59s/it]"
     ]
    },
    {
     "name": "stdout",
     "output_type": "stream",
     "text": [
      "Multiple merger, redrawing...\n"
     ]
    },
    {
     "name": "stderr",
     "output_type": "stream",
     "text": [
      " 82%|████████████████████████████████████████████████████████████████████████████████▎                 | 82/100 [44:32<09:56, 33.13s/it]"
     ]
    },
    {
     "name": "stdout",
     "output_type": "stream",
     "text": [
      "Multiple merger, redrawing...\n",
      "Multiple merger, redrawing...\n",
      "Multiple merger, redrawing...\n",
      "Multiple merger, redrawing...\n",
      "Multiple merger, redrawing...\n",
      "Multiple merger, redrawing...\n",
      "Multiple merger, redrawing...\n",
      "Multiple merger, redrawing...\n",
      "Multiple merger, redrawing...\n"
     ]
    },
    {
     "name": "stderr",
     "output_type": "stream",
     "text": [
      " 84%|██████████████████████████████████████████████████████████████████████████████████▎               | 84/100 [45:42<09:01, 33.84s/it]"
     ]
    },
    {
     "name": "stdout",
     "output_type": "stream",
     "text": [
      "Multiple merger, redrawing...\n"
     ]
    },
    {
     "name": "stderr",
     "output_type": "stream",
     "text": [
      " 85%|███████████████████████████████████████████████████████████████████████████████████▎              | 85/100 [46:16<08:28, 33.88s/it]"
     ]
    },
    {
     "name": "stdout",
     "output_type": "stream",
     "text": [
      "Multiple merger, redrawing...\n",
      "Multiple merger, redrawing...\n",
      "Multiple merger, redrawing...\n",
      "Multiple merger, redrawing...\n"
     ]
    },
    {
     "name": "stderr",
     "output_type": "stream",
     "text": [
      " 86%|████████████████████████████████████████████████████████████████████████████████████▎             | 86/100 [46:50<07:57, 34.10s/it]"
     ]
    },
    {
     "name": "stdout",
     "output_type": "stream",
     "text": [
      "Multiple merger, redrawing...\n"
     ]
    },
    {
     "name": "stderr",
     "output_type": "stream",
     "text": [
      " 87%|█████████████████████████████████████████████████████████████████████████████████████▎            | 87/100 [47:25<07:26, 34.33s/it]"
     ]
    },
    {
     "name": "stdout",
     "output_type": "stream",
     "text": [
      "Multiple merger, redrawing...\n"
     ]
    },
    {
     "name": "stderr",
     "output_type": "stream",
     "text": [
      " 89%|███████████████████████████████████████████████████████████████████████████████████████▏          | 89/100 [48:32<06:12, 33.88s/it]"
     ]
    },
    {
     "name": "stdout",
     "output_type": "stream",
     "text": [
      "Multiple merger, redrawing...\n",
      "Multiple merger, redrawing...\n",
      "Multiple merger, redrawing...\n",
      "Multiple merger, redrawing...\n",
      "Multiple merger, redrawing...\n",
      "Multiple merger, redrawing...\n",
      "Multiple merger, redrawing...\n",
      "Multiple merger, redrawing...\n",
      "Multiple merger, redrawing...\n",
      "Multiple merger, redrawing...\n",
      "Multiple merger, redrawing...\n",
      "Multiple merger, redrawing...\n",
      "Multiple merger, redrawing...\n",
      "Multiple merger, redrawing...\n",
      "Multiple merger, redrawing...\n",
      "Multiple merger, redrawing...\n",
      "Multiple merger, redrawing...\n",
      "Multiple merger, redrawing...\n",
      "Multiple merger, redrawing...\n",
      "Multiple merger, redrawing...\n",
      "Multiple merger, redrawing...\n",
      "Multiple merger, redrawing...\n",
      "Multiple merger, redrawing...\n",
      "Multiple merger, redrawing...\n"
     ]
    },
    {
     "name": "stderr",
     "output_type": "stream",
     "text": [
      " 91%|█████████████████████████████████████████████████████████████████████████████████████████▏        | 91/100 [49:47<05:18, 35.39s/it]"
     ]
    },
    {
     "name": "stdout",
     "output_type": "stream",
     "text": [
      "Multiple merger, redrawing...\n",
      "Multiple merger, redrawing...\n",
      "Multiple merger, redrawing...\n",
      "Multiple merger, redrawing...\n",
      "Multiple merger, redrawing...\n",
      "Multiple merger, redrawing...\n"
     ]
    },
    {
     "name": "stderr",
     "output_type": "stream",
     "text": [
      " 92%|██████████████████████████████████████████████████████████████████████████████████████████▏       | 92/100 [50:22<04:41, 35.24s/it]"
     ]
    },
    {
     "name": "stdout",
     "output_type": "stream",
     "text": [
      "Multiple merger, redrawing...\n"
     ]
    },
    {
     "name": "stderr",
     "output_type": "stream",
     "text": [
      " 94%|████████████████████████████████████████████████████████████████████████████████████████████      | 94/100 [51:30<03:27, 34.62s/it]"
     ]
    },
    {
     "name": "stdout",
     "output_type": "stream",
     "text": [
      "Multiple merger, redrawing...\n"
     ]
    },
    {
     "name": "stderr",
     "output_type": "stream",
     "text": [
      "100%|█████████████████████████████████████████████████████████████████████████████████████████████████| 100/100 [54:50<00:00, 32.91s/it]\n"
     ]
    }
   ],
   "source": [
    "all_coals = []\n",
    "all_grids = []\n",
    "\n",
    "for fn in tqdm.tqdm(all_trees_filenames):\n",
    "    ag, ac = generate_grid_samples(fn, 10, 100)\n",
    "    all_grids.extend(ag)\n",
    "    all_coals.extend(ac)\n"
   ]
  },
  {
   "cell_type": "code",
   "execution_count": 359,
   "id": "b80403c6-6449-4089-be00-c649017629db",
   "metadata": {},
   "outputs": [],
   "source": [
    "import collections"
   ]
  },
  {
   "cell_type": "code",
   "execution_count": 373,
   "id": "012d9f83-dbe0-4738-b48c-421f32258e3b",
   "metadata": {},
   "outputs": [],
   "source": [
    "def new_and_better_estimate_Ne(coal_times, n_samples, grid_points):\n",
    "    coal_times = np.concatenate([[0], coal_times])\n",
    "    gammas = np.diff(coal_times)\n",
    "    factors = np.arange(n_samples, 0, -1)[:len(gammas)]\n",
    "    factors = factors * (factors-1)/2\n",
    "    Ne_estimates = gammas * factors\n",
    "\n",
    "    Ne_estimates_with_nan = np.concatenate([Ne_estimates, [np.nan]])\n",
    "    \n",
    "    temp = np.searchsorted(coal_times, grid_points, side=\"right\")-1\n",
    "    d = collections.Counter(temp)\n",
    "    a = []\n",
    "    for i in range(len(d)):\n",
    "        a.append([Ne_estimates_with_nan[i]]*d[i])\n",
    "\n",
    "    return Ne_estimates, np.concatenate(a)\n",
    " \n",
    "grid_points = np.sort(np.concatenate(all_coals))\n",
    "\n",
    "xxx = [new_and_better_estimate_Ne(coal_times, 10, grid_points) for coal_times in all_coals]\n",
    "#eee = [new_and_better_estimate_Ne(coal_times, 10, grid_points) for coal_times in all_coals]\n",
    "# for coal_times, Ne_estimates in zip(all_coals, eee):\n",
    "#     plt.stairs(Ne_estimates, np.concatenate([[0], coal_times]), color=\"blue\", alpha=0.1)"
   ]
  },
  {
   "cell_type": "code",
   "execution_count": 374,
   "id": "c73c125e-68ca-4791-84d1-127a3792bda8",
   "metadata": {},
   "outputs": [
    {
     "data": {
      "text/plain": [
       "5384.686263614137"
      ]
     },
     "execution_count": 374,
     "metadata": {},
     "output_type": "execute_result"
    }
   ],
   "source": [
    "np.nanmean(np.concatenate([x[0] for x in xxx]))"
   ]
  },
  {
   "cell_type": "code",
   "execution_count": null,
   "id": "06302b98-3a6b-4160-a83c-b50149af2764",
   "metadata": {},
   "outputs": [],
   "source": []
  },
  {
   "cell_type": "code",
   "execution_count": 375,
   "id": "d27c5283-349c-40c3-bae5-9c85a1db9140",
   "metadata": {},
   "outputs": [],
   "source": [
    "max_len = max([len(x[1]) for x in xxx])"
   ]
  },
  {
   "cell_type": "code",
   "execution_count": 376,
   "id": "965be412-6c10-4a0d-9079-e9963a8453ab",
   "metadata": {},
   "outputs": [],
   "source": [
    "Z = np.zeros((len(xxx), max_len))\n",
    "Z[:,:] = np.nan\n",
    "for i, x in enumerate(xxx):\n",
    "    Z[i,:len(x[1])] = x[1]\n",
    "    \n",
    "\n"
   ]
  },
  {
   "cell_type": "code",
   "execution_count": 377,
   "id": "a3fb827b-2291-4adb-aca9-8358427eb121",
   "metadata": {},
   "outputs": [
    {
     "name": "stderr",
     "output_type": "stream",
     "text": [
      "/tmp/ipykernel_536333/3815136815.py:1: RuntimeWarning: Mean of empty slice\n",
      "  plt.plot(grid_points, 1/np.nanmean(1/Z, axis=0))\n"
     ]
    },
    {
     "data": {
      "text/plain": [
       "[<matplotlib.lines.Line2D at 0x14e2fcbd9090>]"
      ]
     },
     "execution_count": 377,
     "metadata": {},
     "output_type": "execute_result"
    },
    {
     "data": {
      "image/png": "[encoded data removed]",
      "text/plain": [
       "<Figure size 640x480 with 1 Axes>"
      ]
     },
     "metadata": {},
     "output_type": "display_data"
    }
   ],
   "source": [
    "plt.plot(grid_points, 1/np.nanmean(1/Z, axis=0))"
   ]
  },
  {
   "cell_type": "code",
   "execution_count": 379,
   "id": "55e58313-63c7-45a1-810a-9e39f78efcb6",
   "metadata": {},
   "outputs": [
    {
     "name": "stderr",
     "output_type": "stream",
     "text": [
      "/tmp/ipykernel_536333/2796092255.py:1: RuntimeWarning: Mean of empty slice\n",
      "  np.nanmean(1/np.nanmean(1/Z, axis=0))\n"
     ]
    },
    {
     "data": {
      "text/plain": [
       "4402.707455044783"
      ]
     },
     "execution_count": 379,
     "metadata": {},
     "output_type": "execute_result"
    }
   ],
   "source": [
    "np.nanmean(1/np.nanmean(1/Z, axis=0))"
   ]
  },
  {
   "cell_type": "code",
   "execution_count": null,
   "id": "e4193e09-dc0e-419c-acbb-76b22032884e",
   "metadata": {},
   "outputs": [],
   "source": []
  },
  {
   "cell_type": "code",
   "execution_count": 380,
   "id": "d3f53fc6-e590-4689-bc15-86be7a3252d3",
   "metadata": {},
   "outputs": [
    {
     "data": {
      "image/png": "[encoded data removed]",
      "text/plain": [
       "<Figure size 640x480 with 1 Axes>"
      ]
     },
     "metadata": {},
     "output_type": "display_data"
    }
   ],
   "source": [
    "for x in xxx:\n",
    "    plt.plot(grid_points[:len(x[1])], x[1], color=\"blue\", alpha=0.05)"
   ]
  },
  {
   "cell_type": "code",
   "execution_count": null,
   "id": "fb2a4e97-8854-4a10-9c9d-7ff95d8b81da",
   "metadata": {},
   "outputs": [],
   "source": []
  },
  {
   "cell_type": "code",
   "execution_count": 381,
   "id": "0da91c60-0341-4f7a-942d-f0835ea7fea4",
   "metadata": {},
   "outputs": [],
   "source": [
    "all_diffs = [np.diff(np.concatenate([[0], coal_times])) for coal_times in all_coals]"
   ]
  },
  {
   "cell_type": "code",
   "execution_count": 388,
   "id": "721e8adf-81c8-4820-8578-c6a1d0bb3ab0",
   "metadata": {},
   "outputs": [
    {
     "name": "stdout",
     "output_type": "stream",
     "text": [
      "0 9056.295\n",
      "1 8565.624\n",
      "2 7165.004\n",
      "3 6287.652\n",
      "4 4881.93\n",
      "5 4199.83\n",
      "6 3409.05\n",
      "7 2748.768\n"
     ]
    },
    {
     "ename": "IndexError",
     "evalue": "index 8 is out of bounds for axis 0 with size 8",
     "output_type": "error",
     "traceback": [
      "\u001b[0;31m---------------------------------------------------------------------------\u001b[0m",
      "\u001b[0;31mIndexError\u001b[0m                                Traceback (most recent call last)",
      "Cell \u001b[0;32mIn[388], line 4\u001b[0m\n\u001b[1;32m      1\u001b[0m \u001b[38;5;28;01mimport\u001b[39;00m \u001b[38;5;21;01mmath\u001b[39;00m\n\u001b[1;32m      3\u001b[0m \u001b[38;5;28;01mfor\u001b[39;00m i \u001b[38;5;129;01min\u001b[39;00m \u001b[38;5;28mrange\u001b[39m(\u001b[38;5;241m9\u001b[39m):\n\u001b[0;32m----> 4\u001b[0m     \u001b[38;5;28mprint\u001b[39m(i, np\u001b[38;5;241m.\u001b[39mmean([x[i] \u001b[38;5;241m*\u001b[39m math\u001b[38;5;241m.\u001b[39mcomb(\u001b[38;5;241m10\u001b[39m\u001b[38;5;241m-\u001b[39mi, \u001b[38;5;241m2\u001b[39m) \u001b[38;5;28;01mfor\u001b[39;00m x \u001b[38;5;129;01min\u001b[39;00m all_diffs]))\n",
      "Cell \u001b[0;32mIn[388], line 4\u001b[0m, in \u001b[0;36m<listcomp>\u001b[0;34m(.0)\u001b[0m\n\u001b[1;32m      1\u001b[0m \u001b[38;5;28;01mimport\u001b[39;00m \u001b[38;5;21;01mmath\u001b[39;00m\n\u001b[1;32m      3\u001b[0m \u001b[38;5;28;01mfor\u001b[39;00m i \u001b[38;5;129;01min\u001b[39;00m \u001b[38;5;28mrange\u001b[39m(\u001b[38;5;241m9\u001b[39m):\n\u001b[0;32m----> 4\u001b[0m     \u001b[38;5;28mprint\u001b[39m(i, np\u001b[38;5;241m.\u001b[39mmean([\u001b[43mx\u001b[49m\u001b[43m[\u001b[49m\u001b[43mi\u001b[49m\u001b[43m]\u001b[49m \u001b[38;5;241m*\u001b[39m math\u001b[38;5;241m.\u001b[39mcomb(\u001b[38;5;241m10\u001b[39m\u001b[38;5;241m-\u001b[39mi, \u001b[38;5;241m2\u001b[39m) \u001b[38;5;28;01mfor\u001b[39;00m x \u001b[38;5;129;01min\u001b[39;00m all_diffs]))\n",
      "\u001b[0;31mIndexError\u001b[0m: index 8 is out of bounds for axis 0 with size 8"
     ]
    }
   ],
   "source": [
    "import math\n",
    "\n",
    "for i in range(9):\n",
    "    print(i, np.mean([x[i] * math.comb(10-i, 2) for x in all_diffs]))"
   ]
  },
  {
   "cell_type": "markdown",
   "id": "a980b9f0-022e-47fe-b5e2-b5bd0541b5a8",
   "metadata": {},
   "source": [
    "## Another way"
   ]
  },
  {
   "cell_type": "code",
   "execution_count": 409,
   "id": "fa6c1b17-a053-4137-9dac-2b6cbf449a31",
   "metadata": {},
   "outputs": [],
   "source": [
    "filename = \"/rds/project/rds-8b3VcZwY7rY/projects/dated_selection/data/constant_20230420/seed=0/output.trees\"\n",
    "trees = tskit.load(filename)\n",
    "ts, coal_times, mutation_times, mutation_edges = extract_tree_sequence(trees, sample_times=[0], sample_sizes=[10000])"
   ]
  },
  {
   "cell_type": "code",
   "execution_count": 418,
   "id": "119dc8df-a142-4422-a4e1-957628ab839e",
   "metadata": {},
   "outputs": [],
   "source": [
    "import scipy.special\n",
    "\n",
    "def simpler_estimate_Ne(coal_times, max_generations, n_samples):\n",
    "    n_lineages = np.ones(max_generations, dtype=int) * n_samples\n",
    "    for coal_time in coal_times.astype(int):\n",
    "        n_lineages[coal_time:] -= 1\n",
    "    n_possible_pairs = scipy.special.comb(n_lineages, 2)\n",
    "    n_successes = -np.diff(n_lineages)\n",
    "\n",
    "    return n_possible_pairs[:-1], n_successes\n",
    "    \n",
    "\n",
    "n_posssible_pairs, n_successes = simpler_estimate_Ne(coal_times, 20000, 10000)"
   ]
  },
  {
   "cell_type": "code",
   "execution_count": 498,
   "id": "624124cc-5767-4d99-9cc7-d27de1b30e97",
   "metadata": {},
   "outputs": [],
   "source": [
    "import glob\n",
    "\n",
    "all_trees_filenames = sorted(glob.glob(\"/rds/project/rds-8b3VcZwY7rY/projects/dated_selection/data/constant_20230420/seed=*/output.trees\"))"
   ]
  },
  {
   "cell_type": "code",
   "execution_count": 499,
   "id": "189b5df5-54c2-4bf3-8fdb-eaa9e717d787",
   "metadata": {},
   "outputs": [
    {
     "name": "stderr",
     "output_type": "stream",
     "text": [
      "100%|█████████████████████████████████████████████████████████████████████████████████████████████████| 100/100 [01:10<00:00,  1.42it/s]\n"
     ]
    }
   ],
   "source": [
    "all_n_posssible_pairs, all_n_successes = [], []\n",
    "\n",
    "for filename in tqdm.tqdm(all_trees_filenames):\n",
    "    trees = tskit.load(filename)\n",
    "    ts, coal_times, mutation_times, mutation_edges = extract_tree_sequence(trees, sample_times=[0], sample_sizes=[10])\n",
    "    n_posssible_pairs, n_successes = simpler_estimate_Ne(coal_times, 20000, 10)\n",
    "    all_n_posssible_pairs.append(n_posssible_pairs)\n",
    "    all_n_successes.append(n_successes)\n",
    "    "
   ]
  },
  {
   "cell_type": "code",
   "execution_count": 500,
   "id": "4252f523-9ec9-4dec-810c-ef2d45070c71",
   "metadata": {},
   "outputs": [
    {
     "data": {
      "text/plain": [
       "(0.0, 100.0)"
      ]
     },
     "execution_count": 500,
     "metadata": {},
     "output_type": "execute_result"
    },
    {
     "data": {
      "image/png": "[encoded data removed]",
      "text/plain": [
       "<Figure size 640x480 with 1 Axes>"
      ]
     },
     "metadata": {},
     "output_type": "display_data"
    }
   ],
   "source": [
    "plt.plot(np.sum(all_n_successes, axis=0)[:10000], '.')\n",
    "plt.ylim(0,100)"
   ]
  },
  {
   "cell_type": "code",
   "execution_count": 506,
   "id": "d85c1dd1-f4f0-43d5-b505-63f3697381ed",
   "metadata": {},
   "outputs": [
    {
     "name": "stderr",
     "output_type": "stream",
     "text": [
      "/tmp/ipykernel_536333/4114905959.py:1: RuntimeWarning: divide by zero encountered in divide\n",
      "  plt.plot((np.sum(all_n_posssible_pairs, axis=0) / np.sum(all_n_successes, axis=0))[:1000], '.')\n"
     ]
    },
    {
     "data": {
      "text/plain": [
       "[<matplotlib.lines.Line2D at 0x14e2fdcfc970>]"
      ]
     },
     "execution_count": 506,
     "metadata": {},
     "output_type": "execute_result"
    },
    {
     "data": {
      "image/png": "[encoded data removed]",
      "text/plain": [
       "<Figure size 640x480 with 1 Axes>"
      ]
     },
     "metadata": {},
     "output_type": "display_data"
    }
   ],
   "source": [
    "plt.plot((np.sum(all_n_posssible_pairs, axis=0) / np.sum(all_n_successes, axis=0))[:1000], '.')"
   ]
  },
  {
   "cell_type": "code",
   "execution_count": 505,
   "id": "0cf6a08a-0ef5-4339-a62c-bc7dd41aa697",
   "metadata": {},
   "outputs": [
    {
     "name": "stderr",
     "output_type": "stream",
     "text": [
      "/tmp/ipykernel_536333/2273757646.py:5: RuntimeWarning: divide by zero encountered in divide\n",
      "  (np.sum(all_n_posssible_pairs, axis=0) / np.sum(all_n_successes, axis=0)),\n"
     ]
    },
    {
     "data": {
      "text/plain": [
       "[<matplotlib.lines.Line2D at 0x14e2fdc648e0>]"
      ]
     },
     "execution_count": 505,
     "metadata": {},
     "output_type": "execute_result"
    },
    {
     "data": {
      "image/png": "[encoded data removed]",
      "text/plain": [
       "<Figure size 640x480 with 1 Axes>"
      ]
     },
     "metadata": {},
     "output_type": "display_data"
    }
   ],
   "source": [
    "from scipy.ndimage import uniform_filter1d\n",
    "\n",
    "plt.plot(\n",
    "    uniform_filter1d(\n",
    "        (np.sum(all_n_posssible_pairs, axis=0) / np.sum(all_n_successes, axis=0)),\n",
    "        100\n",
    "    ),\n",
    "    '.')"
   ]
  },
  {
   "cell_type": "code",
   "execution_count": 457,
   "id": "e7cf555d-99c6-4ef3-8b05-6a9f1670d1db",
   "metadata": {},
   "outputs": [
    {
     "name": "stderr",
     "output_type": "stream",
     "text": [
      "/tmp/ipykernel_536333/279151551.py:5: RuntimeWarning: divide by zero encountered in divide\n",
      "  1/np.mean(np.array(all_n_successes) / np.array(all_n_posssible_pairs), axis=0),\n"
     ]
    },
    {
     "data": {
      "text/plain": [
       "[<matplotlib.lines.Line2D at 0x14e2f65e3010>]"
      ]
     },
     "execution_count": 457,
     "metadata": {},
     "output_type": "execute_result"
    },
    {
     "data": {
      "image/png": "[encoded data removed]",
      "text/plain": [
       "<Figure size 640x480 with 1 Axes>"
      ]
     },
     "metadata": {},
     "output_type": "display_data"
    }
   ],
   "source": [
    "from scipy.ndimage import uniform_filter1d\n",
    "\n",
    "plt.plot(\n",
    "    uniform_filter1d(\n",
    "        1/np.mean(np.array(all_n_successes) / np.array(all_n_posssible_pairs), axis=0),\n",
    "        100\n",
    "    ),\n",
    "    '.')"
   ]
  },
  {
   "cell_type": "code",
   "execution_count": 438,
   "id": "ead0041c-41fd-42af-93c2-0065ee7ac4c5",
   "metadata": {},
   "outputs": [
    {
     "data": {
      "text/plain": [
       "19162.514373323113"
      ]
     },
     "execution_count": 438,
     "metadata": {},
     "output_type": "execute_result"
    }
   ],
   "source": [
    "1/(2609/(10000*9999/2))"
   ]
  },
  {
   "cell_type": "code",
   "execution_count": 434,
   "id": "1e5ae208-bae8-4950-9ed6-22215791841e",
   "metadata": {},
   "outputs": [
    {
     "data": {
      "text/plain": [
       "array([2609, 1320,  824, ...,    0,    0,    0])"
      ]
     },
     "execution_count": 434,
     "metadata": {},
     "output_type": "execute_result"
    }
   ],
   "source": [
    "all_n_successes[0]"
   ]
  },
  {
   "cell_type": "code",
   "execution_count": 421,
   "id": "cc56699d-c529-4a7a-b15c-993513f02fec",
   "metadata": {},
   "outputs": [
    {
     "data": {
      "text/plain": [
       "[<matplotlib.lines.Line2D at 0x14e2f60f43a0>]"
      ]
     },
     "execution_count": 421,
     "metadata": {},
     "output_type": "execute_result"
    },
    {
     "data": {
      "image/png": "[encoded data removed]",
      "text/plain": [
       "<Figure size 640x480 with 1 Axes>"
      ]
     },
     "metadata": {},
     "output_type": "display_data"
    }
   ],
   "source": [
    "plt.plot(n_successes)"
   ]
  },
  {
   "cell_type": "markdown",
   "id": "78709dcf-b24e-4513-a29d-2979e871492b",
   "metadata": {},
   "source": [
    "## Another attempt"
   ]
  },
  {
   "cell_type": "code",
   "execution_count": 481,
   "id": "6c453f23-7569-4933-8fa0-177b2db81fb6",
   "metadata": {},
   "outputs": [],
   "source": [
    "def an_even_newer_and_better_estimate_Ne(all_coals, n_samples, max_generations, stride):\n",
    "    Ne_estimates_grid = np.arange(0, max_generations, stride)\n",
    "#     Ne_estimates_grid_num_observations = np.zeros(0, max_generations, stride)\n",
    "    \n",
    "#     for coal_times in all_coals:\n",
    "#         coal_times_with_zero = np.concatenate([[0], coal_times])\n",
    "#         gammas = np.diff(coal_times_with_zero)\n",
    "#         factors = np.arange(n_samples, 0, -1)[:len(gammas)]\n",
    "#         factors = factors * (factors-1)/2\n",
    "#         Ne_estimates = gammas * factors\n",
    "        \n",
    "#         for coal_time_diff, coal_time, Ne_estimate in zip(gammas, coal_times, Ne_estimates):\n",
    "#             x = coal_time - coal_time_diff/2\n",
    "#             grid_index = int(x) // int(stride)\n",
    "#             Ne_estimates_grid[grid_index] += Ne_estimate\n",
    "#             Ne_estimates_grid_num_observations += 1\n",
    "            \n",
    "#     print(Ne_estimates_grid)\n",
    "#     print(Ne_estimates_grid_num_observations)\n",
    "\n",
    "    xs = []\n",
    "    ys = []\n",
    "    all_Ne_estimates = []\n",
    "    \n",
    "    for grid_point in Ne_estimates_grid:\n",
    "        # [grid_point, grid_point + stride)\n",
    "        \n",
    "        aggregated_sum = []\n",
    "        n_items = 0\n",
    "        \n",
    "        x_points = []\n",
    "        \n",
    "        for coal_times in all_coals:                        \n",
    "            coal_times_with_zero = np.concatenate([[0], coal_times])            \n",
    "            gammas = np.diff(coal_times_with_zero)\n",
    "            factors = np.arange(n_samples, 0, -1)[:len(gammas)]\n",
    "            factors = factors * (factors-1)/2\n",
    "            Ne_estimates = gammas * factors\n",
    "            \n",
    "            all_Ne_estimates.extend(Ne_estimates)\n",
    "\n",
    "            for coal_time_diff, coal_time, Ne_estimate in zip(gammas, coal_times, Ne_estimates):            \n",
    "                if (coal_time // stride) * stride == grid_point:\n",
    "                    aggregated_sum.append(Ne_estimate)\n",
    "                    n_items += 1\n",
    "                    x_points.append(coal_time - coal_time_diff/2)\n",
    "                    \n",
    "        if n_items > 0:\n",
    "            x = np.mean(x_points)\n",
    "            y = np.mean(aggregated_sum)\n",
    "\n",
    "            xs.append(x)\n",
    "            ys.append(y)\n",
    "        \n",
    "    return xs, ys, all_Ne_estimates\n",
    "                    \n",
    "        \n",
    "                    \n",
    "          \n",
    " \n"
   ]
  },
  {
   "cell_type": "code",
   "execution_count": 495,
   "id": "d670e612-6ca1-42f2-b38c-1cd0bdc544fe",
   "metadata": {},
   "outputs": [],
   "source": [
    "xs, ys, all_Ne_estimates = an_even_newer_and_better_estimate_Ne(all_coals, n_samples = 10, max_generations = 20000, stride = 100)"
   ]
  },
  {
   "cell_type": "code",
   "execution_count": 496,
   "id": "ff0d17c9-d0f1-42aa-8e03-f4fe6d86f2f9",
   "metadata": {},
   "outputs": [
    {
     "data": {
      "text/plain": [
       "9853.129475504324"
      ]
     },
     "execution_count": 496,
     "metadata": {},
     "output_type": "execute_result"
    }
   ],
   "source": [
    "np.mean(all_Ne_estimates)"
   ]
  },
  {
   "cell_type": "code",
   "execution_count": null,
   "id": "2880c20c-5785-4e50-ba88-b22be6a0fb6c",
   "metadata": {},
   "outputs": [],
   "source": []
  },
  {
   "cell_type": "code",
   "execution_count": 497,
   "id": "fc75a634-236b-4015-bcf3-c2ef15b47da9",
   "metadata": {},
   "outputs": [
    {
     "data": {
      "text/plain": [
       "[<matplotlib.lines.Line2D at 0x14e2fd9f8b50>]"
      ]
     },
     "execution_count": 497,
     "metadata": {},
     "output_type": "execute_result"
    },
    {
     "data": {
      "image/png": "[encoded data removed]",
      "text/plain": [
       "<Figure size 640x480 with 1 Axes>"
      ]
     },
     "metadata": {},
     "output_type": "display_data"
    }
   ],
   "source": [
    "plt.plot(xs, ys, '.')"
   ]
  },
  {
   "cell_type": "code",
   "execution_count": null,
   "id": "2027bd62-081a-4ae9-9b56-840b30b2ce7a",
   "metadata": {},
   "outputs": [],
   "source": []
  },
  {
   "cell_type": "code",
   "execution_count": 508,
   "id": "134dd49b-a0f7-481e-a431-ca4786c4ae65",
   "metadata": {},
   "outputs": [],
   "source": [
    "from numpy import log\n",
    "from scipy.special import betaln\n",
    "\n",
    "def binomln(n, k):\n",
    "    # Assumes binom(n, k) >= 0\n",
    "    return -betaln(1 + n - k, 1 + k) - log(n + 1)\n",
    "\n",
    "def F(N, m, i): \n",
    "    return binomln(N, i) - m * log(N)"
   ]
  },
  {
   "cell_type": "code",
   "execution_count": 544,
   "id": "f249e571-34fa-4737-82f7-7e43bcb0a628",
   "metadata": {},
   "outputs": [
    {
     "name": "stdout",
     "output_type": "stream",
     "text": [
      "  message: CONVERGENCE: NORM_OF_PROJECTED_GRADIENT_<=_PGTOL\n",
      "  success: True\n",
      "   status: 0\n",
      "      fun: 6222.269265772601\n",
      "        x: [ 2.993e+03]\n",
      "      nit: 16\n",
      "      jac: [ 0.000e+00]\n",
      "     nfev: 36\n",
      "     njev: 18\n",
      " hess_inv: <1x1 LbfgsInvHessProduct with dtype=float64>\n",
      "[2992.78142761]\n"
     ]
    }
   ],
   "source": [
    "import scipy.optimize\n",
    "\n",
    "m = 1000\n",
    "i = 850\n",
    "\n",
    "res = scipy.optimize.minimize(\n",
    "    fun = lambda x: -F(x[0], m, i), \n",
    "    x0 = [i,],\n",
    "    bounds = [(0, np.inf)],\n",
    ")\n",
    "\n",
    "print(res)\n",
    "print(res.x)\n",
    "    "
   ]
  },
  {
   "cell_type": "code",
   "execution_count": 515,
   "id": "602c4ddc-e244-4fc5-9ad1-22f3c07e5565",
   "metadata": {},
   "outputs": [
    {
     "data": {
      "text/plain": [
       "[<matplotlib.lines.Line2D at 0x14e2ea96a770>]"
      ]
     },
     "execution_count": 515,
     "metadata": {},
     "output_type": "execute_result"
    },
    {
     "data": {
      "image/png": "[encoded data removed]",
      "text/plain": [
       "<Figure size 640x480 with 1 Axes>"
      ]
     },
     "metadata": {},
     "output_type": "display_data"
    }
   ],
   "source": [
    "xs = np.arange(900, 1000)\n",
    "\n",
    "plt.plot(xs, F(xs, 100, 95))"
   ]
  },
  {
   "cell_type": "code",
   "execution_count": 523,
   "id": "6a36dc70-261a-4909-8745-dfcc0e8b4468",
   "metadata": {},
   "outputs": [
    {
     "data": {
      "text/plain": [
       "array([-379.96133768, -379.96133152, -379.96133124, -379.96133681])"
      ]
     },
     "execution_count": 523,
     "metadata": {},
     "output_type": "execute_result"
    }
   ],
   "source": [
    "F(np.array([955, 956, 957, 958]), 100, 95)"
   ]
  },
  {
   "cell_type": "code",
   "execution_count": null,
   "id": "ac8fad11-9841-4500-bf38-b8e9eda2e2a3",
   "metadata": {},
   "outputs": [],
   "source": []
  }
 ],
 "metadata": {
  "kernelspec": {
   "display_name": "dated_selection",
   "language": "python",
   "name": "dated_selection"
  },
  "language_info": {
   "codemirror_mode": {
    "name": "ipython",
    "version": 3
   },
   "file_extension": ".py",
   "mimetype": "text/x-python",
   "name": "python",
   "nbconvert_exporter": "python",
   "pygments_lexer": "ipython3",
   "version": "3.10.10"
  }
 },
 "nbformat": 4,
 "nbformat_minor": 5
}
