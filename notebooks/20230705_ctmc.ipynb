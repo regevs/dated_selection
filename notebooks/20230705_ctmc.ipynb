{
 "cells": [
  {
   "cell_type": "code",
   "execution_count": 1,
   "id": "06b177eb-a279-407f-b18e-e7d6b513dd51",
   "metadata": {
    "tags": []
   },
   "outputs": [],
   "source": [
    "import numpy as np\n",
    "import matplotlib.pyplot as plt\n",
    "import pandas as pd\n",
    "import sympy"
   ]
  },
  {
   "cell_type": "markdown",
   "id": "2829fd56-0f59-413d-9ffa-cc62353215e9",
   "metadata": {},
   "source": [
    "# Try a simple exponential"
   ]
  },
  {
   "cell_type": "code",
   "execution_count": 2,
   "id": "40bb2bc0-c87a-4f79-95c3-14e5aefe40ff",
   "metadata": {
    "tags": []
   },
   "outputs": [],
   "source": [
    "s, t = sympy.symbols(\"s t\", real=True, positive=True)"
   ]
  },
  {
   "cell_type": "code",
   "execution_count": 38,
   "id": "0ad1b18e-8623-435b-853f-4c2cbc39e383",
   "metadata": {
    "tags": []
   },
   "outputs": [],
   "source": [
    "Q = sympy.Matrix([[0, 0], [s, -s]])"
   ]
  },
  {
   "cell_type": "code",
   "execution_count": 39,
   "id": "f096ba24-0247-44ff-9a01-6a0e3aaa0ed5",
   "metadata": {
    "tags": []
   },
   "outputs": [],
   "source": [
    "P, D = Q.diagonalize()"
   ]
  },
  {
   "cell_type": "code",
   "execution_count": 40,
   "id": "66325871-7e6f-4019-bf42-66a4ec72cdbb",
   "metadata": {
    "tags": []
   },
   "outputs": [
    {
     "data": {
      "text/latex": [
       "$\\displaystyle \\left[\\begin{matrix}1 & 0\\\\1 - e^{- s t} & e^{- s t}\\end{matrix}\\right]$"
      ],
      "text/plain": [
       "Matrix([\n",
       "[            1,         0],\n",
       "[1 - exp(-s*t), exp(-s*t)]])"
      ]
     },
     "execution_count": 40,
     "metadata": {},
     "output_type": "execute_result"
    }
   ],
   "source": [
    "P * sympy.exp(D * t) * P.inv()"
   ]
  },
  {
   "cell_type": "markdown",
   "id": "5b65f266-b4cf-45b8-bb94-4d737668e2b5",
   "metadata": {},
   "source": [
    "#### This is good - the second row is what we get if the initial distribution was (0,1)"
   ]
  },
  {
   "cell_type": "markdown",
   "id": "0850a600-f9f6-4a8a-8096-bb8c93c8984b",
   "metadata": {},
   "source": [
    "# Try two independent exponentials"
   ]
  },
  {
   "cell_type": "code",
   "execution_count": 24,
   "id": "30b6eb0b-ad48-4645-808f-d69bcfe890e4",
   "metadata": {
    "tags": []
   },
   "outputs": [],
   "source": [
    "Q2 = sympy.Matrix([\n",
    "    [0, 0, 0, 0],\n",
    "    [s, -s, 0, 0],\n",
    "    [s, 0, -s, 0],\n",
    "    [0, s, s, -2*s],\n",
    "])"
   ]
  },
  {
   "cell_type": "code",
   "execution_count": 25,
   "id": "a9ad9119-d5a6-43aa-8583-5e03d338a501",
   "metadata": {
    "tags": []
   },
   "outputs": [],
   "source": [
    "P2, D2 = Q2.diagonalize()"
   ]
  },
  {
   "cell_type": "code",
   "execution_count": 30,
   "id": "14af924c-5813-4c3a-833b-4bebbedbe2d0",
   "metadata": {
    "tags": []
   },
   "outputs": [
    {
     "data": {
      "text/latex": [
       "$\\displaystyle \\left[\\begin{matrix}1 & 0 & 0 & 0\\\\1 & 0 & -1 & 1\\\\1 & 0 & 1 & 0\\\\1 & 1 & 0 & 1\\end{matrix}\\right]$"
      ],
      "text/plain": [
       "Matrix([\n",
       "[1, 0,  0, 0],\n",
       "[1, 0, -1, 1],\n",
       "[1, 0,  1, 0],\n",
       "[1, 1,  0, 1]])"
      ]
     },
     "execution_count": 30,
     "metadata": {},
     "output_type": "execute_result"
    }
   ],
   "source": [
    "P2"
   ]
  },
  {
   "cell_type": "code",
   "execution_count": 31,
   "id": "1a8ca5c7-970a-4aac-8153-1bd19ea05e6a",
   "metadata": {
    "tags": []
   },
   "outputs": [
    {
     "data": {
      "text/latex": [
       "$\\displaystyle \\left[\\begin{matrix}0 & 0 & 0 & 0\\\\0 & - 2 s & 0 & 0\\\\0 & 0 & - s & 0\\\\0 & 0 & 0 & - s\\end{matrix}\\right]$"
      ],
      "text/plain": [
       "Matrix([\n",
       "[0,    0,  0,  0],\n",
       "[0, -2*s,  0,  0],\n",
       "[0,    0, -s,  0],\n",
       "[0,    0,  0, -s]])"
      ]
     },
     "execution_count": 31,
     "metadata": {},
     "output_type": "execute_result"
    }
   ],
   "source": [
    "D2"
   ]
  },
  {
   "cell_type": "code",
   "execution_count": 41,
   "id": "06f8f3ac-2b3c-4790-84a3-e5030be9ed82",
   "metadata": {
    "tags": []
   },
   "outputs": [
    {
     "data": {
      "text/latex": [
       "$\\displaystyle \\left[\\begin{matrix}1 & 0 & 0 & 0\\\\1 - e^{- s t} & e^{- s t} & 0 & 0\\\\1 - e^{- s t} & 0 & e^{- s t} & 0\\\\1 - 2 e^{- s t} + e^{- 2 s t} & e^{- s t} - e^{- 2 s t} & e^{- s t} - e^{- 2 s t} & e^{- 2 s t}\\end{matrix}\\right]$"
      ],
      "text/plain": [
       "Matrix([\n",
       "[                            1,                       0,                       0,           0],\n",
       "[                1 - exp(-s*t),               exp(-s*t),                       0,           0],\n",
       "[                1 - exp(-s*t),                       0,               exp(-s*t),           0],\n",
       "[1 - 2*exp(-s*t) + exp(-2*s*t), exp(-s*t) - exp(-2*s*t), exp(-s*t) - exp(-2*s*t), exp(-2*s*t)]])"
      ]
     },
     "execution_count": 41,
     "metadata": {},
     "output_type": "execute_result"
    }
   ],
   "source": [
    "P2 * sympy.exp(D2 * t) * P2.inv()"
   ]
  },
  {
   "cell_type": "markdown",
   "id": "2ac86ed5-19a3-498f-93be-9d78e470cbb7",
   "metadata": {},
   "source": [
    "#### Start with an initial distribution of P(11) = 1; also collapse states 01 and 10 in the end:"
   ]
  },
  {
   "cell_type": "code",
   "execution_count": 42,
   "id": "480dc5b0-1c3c-48a6-8ed1-58938e168356",
   "metadata": {
    "tags": []
   },
   "outputs": [],
   "source": [
    "collapse_2_to_1 = sympy.Matrix([\n",
    "    [1, 0, 0],\n",
    "    [0, 1, 0],\n",
    "    [0, 1, 0],\n",
    "    [0, 0, 1],    \n",
    "])"
   ]
  },
  {
   "cell_type": "code",
   "execution_count": 46,
   "id": "2df63418-b9d4-48ed-b638-f407658b4310",
   "metadata": {
    "tags": []
   },
   "outputs": [],
   "source": [
    "dist_at_time_t = sympy.Matrix([0,0,0,1]).T * P2 * sympy.exp(D2 * t) * P2.inv() * collapse_2_to_1"
   ]
  },
  {
   "cell_type": "markdown",
   "id": "fd1d81da-7c3b-493e-80d5-62595bf3330d",
   "metadata": {},
   "source": [
    "#### We expect this to equal a binomial with $n=2$ and $p=e^{-st}$"
   ]
  },
  {
   "cell_type": "code",
   "execution_count": 79,
   "id": "40818312-9140-4f6b-89c9-37d707c99fe8",
   "metadata": {
    "tags": []
   },
   "outputs": [],
   "source": [
    "prob = sympy.exp(-s*t)\n",
    "binom_dist_at_time_t = sympy.Matrix([(1-prob)**2, 2*prob*(1-prob), prob**2])"
   ]
  },
  {
   "cell_type": "code",
   "execution_count": 80,
   "id": "3c61446f-3713-4728-8819-a6bc23bde1b2",
   "metadata": {
    "tags": []
   },
   "outputs": [
    {
     "data": {
      "text/latex": [
       "$\\displaystyle \\left[\\begin{matrix}1 - 2 e^{- s t} + e^{- 2 s t}\\\\2 e^{- s t} - 2 e^{- 2 s t}\\\\e^{- 2 s t}\\end{matrix}\\right]$"
      ],
      "text/plain": [
       "Matrix([\n",
       "[1 - 2*exp(-s*t) + exp(-2*s*t)],\n",
       "[  2*exp(-s*t) - 2*exp(-2*s*t)],\n",
       "[                  exp(-2*s*t)]])"
      ]
     },
     "execution_count": 80,
     "metadata": {},
     "output_type": "execute_result"
    }
   ],
   "source": [
    "binom_dist_at_time_t.expand()"
   ]
  },
  {
   "cell_type": "code",
   "execution_count": 81,
   "id": "42abc4c3-a776-469d-b286-1c076eb1b5b1",
   "metadata": {},
   "outputs": [
    {
     "data": {
      "text/latex": [
       "$\\displaystyle \\left[\\begin{matrix}1 - 2 e^{- s t} + e^{- 2 s t}\\\\2 e^{- s t} - 2 e^{- 2 s t}\\\\e^{- 2 s t}\\end{matrix}\\right]$"
      ],
      "text/plain": [
       "Matrix([\n",
       "[1 - 2*exp(-s*t) + exp(-2*s*t)],\n",
       "[  2*exp(-s*t) - 2*exp(-2*s*t)],\n",
       "[                  exp(-2*s*t)]])"
      ]
     },
     "execution_count": 81,
     "metadata": {},
     "output_type": "execute_result"
    }
   ],
   "source": [
    "dist_at_time_t.T"
   ]
  },
  {
   "cell_type": "markdown",
   "id": "775d5d00-db8c-4f23-ac64-a9fc5a7590c9",
   "metadata": {},
   "source": [
    "### What is the mean?"
   ]
  },
  {
   "cell_type": "code",
   "execution_count": 230,
   "id": "fe081b38-1cf9-4242-9ccb-c208b6c26e94",
   "metadata": {
    "tags": []
   },
   "outputs": [
    {
     "data": {
      "text/latex": [
       "$\\displaystyle \\left[\\begin{matrix}e^{- s t}\\end{matrix}\\right]$"
      ],
      "text/plain": [
       "Matrix([[exp(-s*t)]])"
      ]
     },
     "execution_count": 230,
     "metadata": {},
     "output_type": "execute_result"
    }
   ],
   "source": [
    "dist_at_time_t * sympy.Matrix([0, 1, 2])/2"
   ]
  },
  {
   "cell_type": "code",
   "execution_count": null,
   "id": "e4376daf-5fcf-47ed-bef4-189a06976c9c",
   "metadata": {},
   "outputs": [],
   "source": []
  },
  {
   "cell_type": "code",
   "execution_count": null,
   "id": "a49531d9-7b1d-4692-93a1-b4f9a6a38a6c",
   "metadata": {},
   "outputs": [],
   "source": []
  },
  {
   "cell_type": "markdown",
   "id": "25c89657-bdb7-475f-9ef5-7c14471e66b6",
   "metadata": {},
   "source": [
    "# Now try with coalescence"
   ]
  },
  {
   "cell_type": "code",
   "execution_count": 4,
   "id": "3663e8d4-253a-4fa1-a2a0-5f51762318e4",
   "metadata": {
    "tags": []
   },
   "outputs": [],
   "source": [
    "c0, c1, s = sympy.symbols(\"c0 c1 s\", real=True, positive=True)"
   ]
  },
  {
   "cell_type": "code",
   "execution_count": 5,
   "id": "548296b7-b007-4623-a2d2-9fecb28b1601",
   "metadata": {
    "tags": []
   },
   "outputs": [],
   "source": [
    "Qc = sympy.Matrix([\n",
    "    [-c0, 0, 0, 0, c0, 0],\n",
    "    [s, -s, 0, 0, 0, 0],\n",
    "    [s, 0, -s, 0, 0, 0],\n",
    "    [0, 0, 0, -c1, 0, c1],\n",
    "    [0, 0, 0, 0, 0, 0],\n",
    "    [0, 0, 0, 0, s, -s],\n",
    "])"
   ]
  },
  {
   "cell_type": "code",
   "execution_count": 6,
   "id": "2e42288a-e866-4a07-b10c-98e522074072",
   "metadata": {
    "tags": []
   },
   "outputs": [],
   "source": [
    "Pc, Dc = Qc.diagonalize()"
   ]
  },
  {
   "cell_type": "code",
   "execution_count": 7,
   "id": "d17199e9-3af6-4191-91f6-04b7a121ae86",
   "metadata": {
    "tags": []
   },
   "outputs": [
    {
     "data": {
      "text/latex": [
       "$\\displaystyle \\left[\\begin{matrix}1 & \\frac{- c_{0} + s}{s} & 0 & 0 & 0 & 0\\\\1 & 1 & 0 & 1 & 0 & 0\\\\1 & 1 & 0 & 0 & 1 & 0\\\\1 & 0 & 1 & 0 & 0 & \\frac{c_{1}}{c_{1} - s}\\\\1 & 0 & 0 & 0 & 0 & 0\\\\1 & 0 & 0 & 0 & 0 & 1\\end{matrix}\\right]$"
      ],
      "text/plain": [
       "Matrix([\n",
       "[1, (-c0 + s)/s, 0, 0, 0,           0],\n",
       "[1,           1, 0, 1, 0,           0],\n",
       "[1,           1, 0, 0, 1,           0],\n",
       "[1,           0, 1, 0, 0, c1/(c1 - s)],\n",
       "[1,           0, 0, 0, 0,           0],\n",
       "[1,           0, 0, 0, 0,           1]])"
      ]
     },
     "execution_count": 7,
     "metadata": {},
     "output_type": "execute_result"
    }
   ],
   "source": [
    "Pc\n"
   ]
  },
  {
   "cell_type": "code",
   "execution_count": 8,
   "id": "ac5224ac-9ee5-4723-af52-4a74e4df568f",
   "metadata": {
    "tags": []
   },
   "outputs": [
    {
     "data": {
      "text/latex": [
       "$\\displaystyle \\left[\\begin{matrix}0 & 0 & 0 & 0 & 0 & 0\\\\0 & - c_{0} & 0 & 0 & 0 & 0\\\\0 & 0 & - c_{1} & 0 & 0 & 0\\\\0 & 0 & 0 & - s & 0 & 0\\\\0 & 0 & 0 & 0 & - s & 0\\\\0 & 0 & 0 & 0 & 0 & - s\\end{matrix}\\right]$"
      ],
      "text/plain": [
       "Matrix([\n",
       "[0,   0,   0,  0,  0,  0],\n",
       "[0, -c0,   0,  0,  0,  0],\n",
       "[0,   0, -c1,  0,  0,  0],\n",
       "[0,   0,   0, -s,  0,  0],\n",
       "[0,   0,   0,  0, -s,  0],\n",
       "[0,   0,   0,  0,  0, -s]])"
      ]
     },
     "execution_count": 8,
     "metadata": {},
     "output_type": "execute_result"
    }
   ],
   "source": [
    "Dc"
   ]
  },
  {
   "cell_type": "code",
   "execution_count": 9,
   "id": "f9943bfd-d62a-4969-b2b1-7398b9273dd0",
   "metadata": {
    "tags": []
   },
   "outputs": [],
   "source": [
    "eQct = Pc * sympy.exp(Dc * t) * Pc.inv()"
   ]
  },
  {
   "cell_type": "code",
   "execution_count": 10,
   "id": "7e411199-7a39-4446-836f-c7657889043d",
   "metadata": {
    "tags": []
   },
   "outputs": [
    {
     "data": {
      "text/latex": [
       "$\\displaystyle \\left[\\begin{matrix}e^{- c_{0} t} & 0 & 0 & 0 & 1 - e^{- c_{0} t} & 0\\\\- \\frac{s e^{- s t}}{- c_{0} + s} + \\frac{s e^{- c_{0} t}}{- c_{0} + s} & e^{- s t} & 0 & 0 & \\frac{c_{0} e^{- s t}}{- c_{0} + s} - \\frac{s e^{- c_{0} t}}{- c_{0} + s} + 1 & 0\\\\\\frac{c_{0} e^{- s t}}{\\frac{c_{0}^{2}}{s} - c_{0}} + \\frac{s e^{- c_{0} t}}{- c_{0} + s} & 0 & e^{- s t} & 0 & \\frac{c_{0} e^{- s t}}{- c_{0} + s} - \\frac{s e^{- c_{0} t}}{- c_{0} + s} + 1 & 0\\\\0 & 0 & 0 & e^{- c_{1} t} & - \\frac{c_{1} e^{- s t}}{c_{1} - s} - \\frac{s e^{- c_{1} t}}{- c_{1} + s} + 1 & \\frac{c_{1} e^{- s t}}{c_{1} - s} + \\frac{c_{1} e^{- c_{1} t}}{- c_{1} + s}\\\\0 & 0 & 0 & 0 & 1 & 0\\\\0 & 0 & 0 & 0 & 1 - e^{- s t} & e^{- s t}\\end{matrix}\\right]$"
      ],
      "text/plain": [
       "Matrix([\n",
       "[                                          exp(-c0*t),         0,         0,          0,                                      1 - exp(-c0*t),                                               0],\n",
       "[     -s*exp(-s*t)/(-c0 + s) + s*exp(-c0*t)/(-c0 + s), exp(-s*t),         0,          0, c0*exp(-s*t)/(-c0 + s) - s*exp(-c0*t)/(-c0 + s) + 1,                                               0],\n",
       "[c0*exp(-s*t)/(c0**2/s - c0) + s*exp(-c0*t)/(-c0 + s),         0, exp(-s*t),          0, c0*exp(-s*t)/(-c0 + s) - s*exp(-c0*t)/(-c0 + s) + 1,                                               0],\n",
       "[                                                   0,         0,         0, exp(-c1*t), -c1*exp(-s*t)/(c1 - s) - s*exp(-c1*t)/(-c1 + s) + 1, c1*exp(-s*t)/(c1 - s) + c1*exp(-c1*t)/(-c1 + s)],\n",
       "[                                                   0,         0,         0,          0,                                                   1,                                               0],\n",
       "[                                                   0,         0,         0,          0,                                       1 - exp(-s*t),                                       exp(-s*t)]])"
      ]
     },
     "execution_count": 10,
     "metadata": {},
     "output_type": "execute_result"
    }
   ],
   "source": [
    "eQct"
   ]
  },
  {
   "cell_type": "code",
   "execution_count": 11,
   "id": "52c2fe58-38e4-4c4b-aa58-5fdcfd2df228",
   "metadata": {
    "tags": []
   },
   "outputs": [],
   "source": [
    "collapse_c_to_1 = sympy.Matrix([\n",
    "    [1, 0, 0],\n",
    "    [0, 1, 0],\n",
    "    [0, 1, 0],\n",
    "    [0, 0, 1],\n",
    "    [1, 0, 0],\n",
    "    [0, 0, 1],    \n",
    "])"
   ]
  },
  {
   "cell_type": "code",
   "execution_count": 12,
   "id": "45e7b2bd-44e3-4ffd-b8ae-e80ba6764e2a",
   "metadata": {
    "tags": []
   },
   "outputs": [
    {
     "data": {
      "text/latex": [
       "$\\displaystyle \\left[\\begin{matrix}1 & 0 & 0\\\\1 - e^{- s t} & e^{- s t} & 0\\\\1 - e^{- s t} & e^{- s t} & 0\\\\\\frac{\\left(- c_{1} e^{c_{1} t} + s e^{s t} + \\left(c_{1} - s\\right) e^{t \\left(c_{1} + s\\right)}\\right) e^{- t \\left(c_{1} + s\\right)}}{c_{1} - s} & 0 & \\frac{\\left(- c_{1} e^{c_{1} t} + s e^{s t}\\right) e^{- t \\left(c_{1} + s\\right)}}{- c_{1} + s}\\\\1 & 0 & 0\\\\1 - e^{- s t} & 0 & e^{- s t}\\end{matrix}\\right]$"
      ],
      "text/plain": [
       "Matrix([\n",
       "[                                                                                1,         0,                                                       0],\n",
       "[                                                                    1 - exp(-s*t), exp(-s*t),                                                       0],\n",
       "[                                                                    1 - exp(-s*t), exp(-s*t),                                                       0],\n",
       "[(-c1*exp(c1*t) + s*exp(s*t) + (c1 - s)*exp(t*(c1 + s)))*exp(-t*(c1 + s))/(c1 - s),         0, (-c1*exp(c1*t) + s*exp(s*t))*exp(-t*(c1 + s))/(-c1 + s)],\n",
       "[                                                                                1,         0,                                                       0],\n",
       "[                                                                    1 - exp(-s*t),         0,                                               exp(-s*t)]])"
      ]
     },
     "execution_count": 12,
     "metadata": {},
     "output_type": "execute_result"
    }
   ],
   "source": [
    "sympy.simplify(eQct * collapse_c_to_1)"
   ]
  },
  {
   "cell_type": "markdown",
   "id": "d1fad8bd-7553-4a63-ad16-c209f11f8a8c",
   "metadata": {},
   "source": [
    "#### This is the expected proportions at time t if we start P(11)=1:"
   ]
  },
  {
   "cell_type": "code",
   "execution_count": 13,
   "id": "0f40fc35-d404-4db6-b898-a2e06ab55369",
   "metadata": {
    "tags": []
   },
   "outputs": [],
   "source": [
    "sol = (sympy.Matrix([0, 0, 0, 1, 0, 0]).T * eQct * collapse_c_to_1).T"
   ]
  },
  {
   "cell_type": "code",
   "execution_count": 14,
   "id": "cd504f59-b3a6-47ba-bf3c-82611237e3de",
   "metadata": {
    "tags": []
   },
   "outputs": [
    {
     "data": {
      "text/latex": [
       "$\\displaystyle \\left[\\begin{matrix}\\frac{\\left(- c_{1} e^{c_{1} t} + s e^{s t} + \\left(c_{1} - s\\right) e^{t \\left(c_{1} + s\\right)}\\right) e^{- t \\left(c_{1} + s\\right)}}{c_{1} - s}\\\\0\\\\\\frac{\\left(- c_{1} e^{c_{1} t} + s e^{s t}\\right) e^{- t \\left(c_{1} + s\\right)}}{- c_{1} + s}\\end{matrix}\\right]$"
      ],
      "text/plain": [
       "Matrix([\n",
       "[(-c1*exp(c1*t) + s*exp(s*t) + (c1 - s)*exp(t*(c1 + s)))*exp(-t*(c1 + s))/(c1 - s)],\n",
       "[                                                                                0],\n",
       "[                          (-c1*exp(c1*t) + s*exp(s*t))*exp(-t*(c1 + s))/(-c1 + s)]])"
      ]
     },
     "execution_count": 14,
     "metadata": {},
     "output_type": "execute_result"
    }
   ],
   "source": [
    "sympy.simplify(sol)"
   ]
  },
  {
   "cell_type": "code",
   "execution_count": 18,
   "id": "13943540-b7e2-4643-a3cf-e0f44565c813",
   "metadata": {
    "tags": []
   },
   "outputs": [
    {
     "data": {
      "text/latex": [
       "$\\displaystyle \\left[\\begin{matrix}- \\frac{c_{1} e^{- s t}}{c_{1} - s} - \\frac{s e^{- c_{1} t}}{- c_{1} + s} + 1\\\\0\\\\\\frac{c_{1} e^{- s t}}{c_{1} - s} + \\frac{c_{1} e^{- c_{1} t}}{- c_{1} + s} + e^{- c_{1} t}\\end{matrix}\\right]$"
      ],
      "text/plain": [
       "Matrix([\n",
       "[         -c1*exp(-s*t)/(c1 - s) - s*exp(-c1*t)/(-c1 + s) + 1],\n",
       "[                                                           0],\n",
       "[c1*exp(-s*t)/(c1 - s) + c1*exp(-c1*t)/(-c1 + s) + exp(-c1*t)]])"
      ]
     },
     "execution_count": 18,
     "metadata": {},
     "output_type": "execute_result"
    }
   ],
   "source": [
    "sol.subs(c0, 0)"
   ]
  },
  {
   "cell_type": "code",
   "execution_count": 16,
   "id": "6df6f54d-eea5-4fb2-9e73-7d9c4e09b644",
   "metadata": {
    "tags": []
   },
   "outputs": [
    {
     "data": {
      "text/latex": [
       "$\\displaystyle \\frac{\\left(- c_{1} e^{c_{1} t} + s e^{s t}\\right) e^{- t \\left(c_{1} + s\\right)}}{- c_{1} + s}$"
      ],
      "text/plain": [
       "(-c1*exp(c1*t) + s*exp(s*t))*exp(-t*(c1 + s))/(-c1 + s)"
      ]
     },
     "execution_count": 16,
     "metadata": {},
     "output_type": "execute_result"
    }
   ],
   "source": [
    "sympy.simplify(sol)[2]"
   ]
  },
  {
   "cell_type": "code",
   "execution_count": 17,
   "id": "63039dac-c980-44a4-853f-589d11fc93de",
   "metadata": {
    "tags": []
   },
   "outputs": [
    {
     "data": {
      "text/latex": [
       "$\\displaystyle \\frac{\\left(- c_{1} e^{c_{1} t} + s e^{s t}\\right) e^{- t \\left(c_{1} + s\\right)}}{- c_{1} + s}$"
      ],
      "text/plain": [
       "(-c1*exp(c1*t) + s*exp(s*t))*exp(-t*(c1 + s))/(-c1 + s)"
      ]
     },
     "execution_count": 17,
     "metadata": {},
     "output_type": "execute_result"
    }
   ],
   "source": [
    "sympy.simplify(sol[2] / sol.subs(c1, 0)[2])"
   ]
  },
  {
   "cell_type": "code",
   "execution_count": null,
   "id": "0a61e748-8f64-427c-a211-70bcf7c9a66b",
   "metadata": {},
   "outputs": [],
   "source": []
  },
  {
   "cell_type": "markdown",
   "id": "3c6199c5-8ea0-48f0-9cc4-514d0e62d5a9",
   "metadata": {},
   "source": [
    "### Get the mean "
   ]
  },
  {
   "cell_type": "code",
   "execution_count": 19,
   "id": "9e2aa00b-8238-402c-a96a-ddf15373c0cd",
   "metadata": {
    "tags": []
   },
   "outputs": [],
   "source": [
    "collapse_c_to_mean = sympy.Matrix([0, 1, 1, 2, 0, 2])/2"
   ]
  },
  {
   "cell_type": "code",
   "execution_count": 20,
   "id": "6e3b2586-4f1d-4424-b0fe-9635ceedd47b",
   "metadata": {
    "tags": []
   },
   "outputs": [
    {
     "data": {
      "text/latex": [
       "$\\displaystyle \\left[\\begin{matrix}e^{- c_{0} t} & 0 & 0 & 0 & 1 - e^{- c_{0} t} & 0\\\\- \\frac{s e^{- s t}}{- c_{0} + s} + \\frac{s e^{- c_{0} t}}{- c_{0} + s} & e^{- s t} & 0 & 0 & \\frac{c_{0} e^{- s t}}{- c_{0} + s} - \\frac{s e^{- c_{0} t}}{- c_{0} + s} + 1 & 0\\\\\\frac{c_{0} e^{- s t}}{\\frac{c_{0}^{2}}{s} - c_{0}} + \\frac{s e^{- c_{0} t}}{- c_{0} + s} & 0 & e^{- s t} & 0 & \\frac{c_{0} e^{- s t}}{- c_{0} + s} - \\frac{s e^{- c_{0} t}}{- c_{0} + s} + 1 & 0\\\\0 & 0 & 0 & e^{- c_{1} t} & - \\frac{c_{1} e^{- s t}}{c_{1} - s} - \\frac{s e^{- c_{1} t}}{- c_{1} + s} + 1 & \\frac{c_{1} e^{- s t}}{c_{1} - s} + \\frac{c_{1} e^{- c_{1} t}}{- c_{1} + s}\\\\0 & 0 & 0 & 0 & 1 & 0\\\\0 & 0 & 0 & 0 & 1 - e^{- s t} & e^{- s t}\\end{matrix}\\right]$"
      ],
      "text/plain": [
       "Matrix([\n",
       "[                                          exp(-c0*t),         0,         0,          0,                                      1 - exp(-c0*t),                                               0],\n",
       "[     -s*exp(-s*t)/(-c0 + s) + s*exp(-c0*t)/(-c0 + s), exp(-s*t),         0,          0, c0*exp(-s*t)/(-c0 + s) - s*exp(-c0*t)/(-c0 + s) + 1,                                               0],\n",
       "[c0*exp(-s*t)/(c0**2/s - c0) + s*exp(-c0*t)/(-c0 + s),         0, exp(-s*t),          0, c0*exp(-s*t)/(-c0 + s) - s*exp(-c0*t)/(-c0 + s) + 1,                                               0],\n",
       "[                                                   0,         0,         0, exp(-c1*t), -c1*exp(-s*t)/(c1 - s) - s*exp(-c1*t)/(-c1 + s) + 1, c1*exp(-s*t)/(c1 - s) + c1*exp(-c1*t)/(-c1 + s)],\n",
       "[                                                   0,         0,         0,          0,                                                   1,                                               0],\n",
       "[                                                   0,         0,         0,          0,                                       1 - exp(-s*t),                                       exp(-s*t)]])"
      ]
     },
     "execution_count": 20,
     "metadata": {},
     "output_type": "execute_result"
    }
   ],
   "source": [
    "eQct"
   ]
  },
  {
   "cell_type": "code",
   "execution_count": 21,
   "id": "5b0a8d91-2462-48d5-9c2f-589cee350b09",
   "metadata": {
    "tags": []
   },
   "outputs": [
    {
     "data": {
      "text/latex": [
       "$\\displaystyle \\left[\\begin{matrix}0\\\\\\frac{e^{- s t}}{2}\\\\\\frac{e^{- s t}}{2}\\\\\\frac{\\left(- c_{1} e^{c_{1} t} + s e^{s t}\\right) e^{- t \\left(c_{1} + s\\right)}}{- c_{1} + s}\\\\0\\\\e^{- s t}\\end{matrix}\\right]$"
      ],
      "text/plain": [
       "Matrix([\n",
       "[                                                      0],\n",
       "[                                            exp(-s*t)/2],\n",
       "[                                            exp(-s*t)/2],\n",
       "[(-c1*exp(c1*t) + s*exp(s*t))*exp(-t*(c1 + s))/(-c1 + s)],\n",
       "[                                                      0],\n",
       "[                                              exp(-s*t)]])"
      ]
     },
     "execution_count": 21,
     "metadata": {},
     "output_type": "execute_result"
    }
   ],
   "source": [
    "sympy.simplify((eQct * collapse_c_to_mean))"
   ]
  },
  {
   "cell_type": "code",
   "execution_count": 22,
   "id": "f518cf5c-fb47-4720-9cac-cfbc4383958d",
   "metadata": {
    "tags": []
   },
   "outputs": [
    {
     "data": {
      "text/latex": [
       "$\\displaystyle \\left[\\begin{matrix}\\frac{\\left(- c_{1} e^{c_{1} t} + s e^{s t} + \\left(c_{1} - s\\right) e^{t \\left(c_{1} + s\\right)}\\right) e^{- t \\left(c_{1} + s\\right)}}{c_{1} - s} & 0 & \\frac{\\left(- c_{1} e^{c_{1} t} + s e^{s t}\\right) e^{- t \\left(c_{1} + s\\right)}}{- c_{1} + s}\\end{matrix}\\right]$"
      ],
      "text/plain": [
       "Matrix([[(-c1*exp(c1*t) + s*exp(s*t) + (c1 - s)*exp(t*(c1 + s)))*exp(-t*(c1 + s))/(c1 - s), 0, (-c1*exp(c1*t) + s*exp(s*t))*exp(-t*(c1 + s))/(-c1 + s)]])"
      ]
     },
     "execution_count": 22,
     "metadata": {},
     "output_type": "execute_result"
    }
   ],
   "source": [
    "sympy.simplify(eQct * collapse_c_to_1).row(3)"
   ]
  },
  {
   "cell_type": "code",
   "execution_count": 24,
   "id": "e771cfc2-83dd-472c-afdc-5ba673d613f0",
   "metadata": {
    "tags": []
   },
   "outputs": [
    {
     "data": {
      "text/latex": [
       "$\\displaystyle \\frac{\\left(c_{1} e^{c_{1} t} - s e^{s t}\\right) e^{- t \\left(c_{1} + s\\right)}}{c_{1} - s}$"
      ],
      "text/plain": [
       "(c1*exp(c1*t) - s*exp(s*t))*exp(-t*(c1 + s))/(c1 - s)"
      ]
     },
     "execution_count": 24,
     "metadata": {},
     "output_type": "execute_result"
    }
   ],
   "source": [
    "sympy.simplify(sympy.simplify(eQct * collapse_c_to_1).row(3) * sympy.Matrix([0,1,2])/2)[0]"
   ]
  },
  {
   "cell_type": "code",
   "execution_count": null,
   "id": "c069cabf-38c9-40b4-9113-23fa32dc400d",
   "metadata": {},
   "outputs": [],
   "source": []
  },
  {
   "cell_type": "code",
   "execution_count": null,
   "id": "2c78d67c-b710-4532-b3b6-5e04f29900cd",
   "metadata": {},
   "outputs": [],
   "source": []
  },
  {
   "cell_type": "code",
   "execution_count": null,
   "id": "58579abe-a86d-45c0-b156-cf29b1ef56c3",
   "metadata": {},
   "outputs": [],
   "source": []
  },
  {
   "cell_type": "code",
   "execution_count": null,
   "id": "6ab18798-050b-4d43-8eef-07b276608474",
   "metadata": {},
   "outputs": [],
   "source": []
  },
  {
   "cell_type": "markdown",
   "id": "ccab9649-1e6c-45eb-9489-92b5a463ee9a",
   "metadata": {},
   "source": [
    "# Simulate "
   ]
  },
  {
   "cell_type": "code",
   "execution_count": 25,
   "id": "d8e6040d-76be-4e49-b05e-2c2eb3d066ca",
   "metadata": {},
   "outputs": [],
   "source": [
    "from sympy.utilities.autowrap import autowrap"
   ]
  },
  {
   "cell_type": "code",
   "execution_count": 26,
   "id": "51c6318b-190c-465e-afb9-429546f4fa5c",
   "metadata": {
    "tags": []
   },
   "outputs": [
    {
     "name": "stdout",
     "output_type": "stream",
     "text": [
      "CPU times: user 29.6 ms, sys: 24.6 ms, total: 54.1 ms\n",
      "Wall time: 17.6 s\n"
     ]
    }
   ],
   "source": [
    "%%time\n",
    "wsol = autowrap(sol)"
   ]
  },
  {
   "cell_type": "code",
   "execution_count": 32,
   "id": "b32393c4-13ad-4d1f-ad2d-f9785ef03290",
   "metadata": {
    "tags": []
   },
   "outputs": [
    {
     "data": {
      "text/plain": [
       "<matplotlib.legend.Legend at 0x151d8ff661a0>"
      ]
     },
     "execution_count": 32,
     "metadata": {},
     "output_type": "execute_result"
    },
    {
     "data": {
      "image/png": "[encoded data removed]",
      "text/plain": [
       "<Figure size 640x480 with 1 Axes>"
      ]
     },
     "metadata": {},
     "output_type": "display_data"
    }
   ],
   "source": [
    "ts = np.arange(500)\n",
    "no_coal = np.exp(-0.01*ts)\n",
    "yes_coal = np.array([wsol(c1=0.01, s=0.01, t=t)[2] for t in ts]) \n",
    "# yes_coal_half = np.array([wsol(c1=0.01, s=0.01, t=t*2)[2] for t in ts]) \n",
    "plt.plot(ts, no_coal, '-', label=\"No coal\")\n",
    "plt.plot(ts, yes_coal, '-', label=\"With coal\")\n",
    "# plt.plot(ts, yes_coal_half, '-', label=\"With coal, x2 mistake\")\n",
    "plt.legend()"
   ]
  },
  {
   "cell_type": "code",
   "execution_count": 33,
   "id": "976eb2df-ae7f-4b6e-b363-1fa6ec91c565",
   "metadata": {
    "tags": []
   },
   "outputs": [
    {
     "data": {
      "text/plain": [
       "array([[inf],\n",
       "       [inf],\n",
       "       [inf],\n",
       "       [inf],\n",
       "       [inf],\n",
       "       [inf],\n",
       "       [inf],\n",
       "       [inf],\n",
       "       [inf],\n",
       "       [inf],\n",
       "       [inf],\n",
       "       [inf],\n",
       "       [inf],\n",
       "       [inf],\n",
       "       [inf],\n",
       "       [inf],\n",
       "       [inf],\n",
       "       [inf],\n",
       "       [inf],\n",
       "       [inf],\n",
       "       [inf],\n",
       "       [inf],\n",
       "       [inf],\n",
       "       [inf],\n",
       "       [inf],\n",
       "       [inf],\n",
       "       [inf],\n",
       "       [inf],\n",
       "       [inf],\n",
       "       [inf],\n",
       "       [inf],\n",
       "       [inf],\n",
       "       [inf],\n",
       "       [inf],\n",
       "       [inf],\n",
       "       [inf],\n",
       "       [inf],\n",
       "       [inf],\n",
       "       [inf],\n",
       "       [inf],\n",
       "       [inf],\n",
       "       [inf],\n",
       "       [inf],\n",
       "       [inf],\n",
       "       [inf],\n",
       "       [inf],\n",
       "       [inf],\n",
       "       [inf],\n",
       "       [inf],\n",
       "       [inf],\n",
       "       [inf],\n",
       "       [inf],\n",
       "       [inf],\n",
       "       [inf],\n",
       "       [inf],\n",
       "       [inf],\n",
       "       [inf],\n",
       "       [inf],\n",
       "       [inf],\n",
       "       [inf],\n",
       "       [inf],\n",
       "       [inf],\n",
       "       [inf],\n",
       "       [inf],\n",
       "       [inf],\n",
       "       [inf],\n",
       "       [inf],\n",
       "       [inf],\n",
       "       [inf],\n",
       "       [inf],\n",
       "       [inf],\n",
       "       [inf],\n",
       "       [inf],\n",
       "       [inf],\n",
       "       [inf],\n",
       "       [inf],\n",
       "       [inf],\n",
       "       [inf],\n",
       "       [inf],\n",
       "       [inf],\n",
       "       [inf],\n",
       "       [inf],\n",
       "       [inf],\n",
       "       [inf],\n",
       "       [inf],\n",
       "       [inf],\n",
       "       [inf],\n",
       "       [inf],\n",
       "       [inf],\n",
       "       [inf],\n",
       "       [inf],\n",
       "       [inf],\n",
       "       [inf],\n",
       "       [inf],\n",
       "       [inf],\n",
       "       [inf],\n",
       "       [inf],\n",
       "       [inf],\n",
       "       [inf],\n",
       "       [inf],\n",
       "       [inf],\n",
       "       [inf],\n",
       "       [inf],\n",
       "       [inf],\n",
       "       [inf],\n",
       "       [inf],\n",
       "       [inf],\n",
       "       [inf],\n",
       "       [inf],\n",
       "       [inf],\n",
       "       [inf],\n",
       "       [inf],\n",
       "       [inf],\n",
       "       [inf],\n",
       "       [inf],\n",
       "       [inf],\n",
       "       [inf],\n",
       "       [inf],\n",
       "       [inf],\n",
       "       [inf],\n",
       "       [inf],\n",
       "       [inf],\n",
       "       [inf],\n",
       "       [inf],\n",
       "       [inf],\n",
       "       [inf],\n",
       "       [inf],\n",
       "       [inf],\n",
       "       [inf],\n",
       "       [inf],\n",
       "       [inf],\n",
       "       [inf],\n",
       "       [inf],\n",
       "       [inf],\n",
       "       [inf],\n",
       "       [inf],\n",
       "       [inf],\n",
       "       [inf],\n",
       "       [inf],\n",
       "       [inf],\n",
       "       [inf],\n",
       "       [inf],\n",
       "       [inf],\n",
       "       [inf],\n",
       "       [inf],\n",
       "       [inf],\n",
       "       [inf],\n",
       "       [inf],\n",
       "       [inf],\n",
       "       [inf],\n",
       "       [inf],\n",
       "       [inf],\n",
       "       [inf],\n",
       "       [inf],\n",
       "       [inf],\n",
       "       [inf],\n",
       "       [inf],\n",
       "       [inf],\n",
       "       [inf],\n",
       "       [inf],\n",
       "       [inf],\n",
       "       [inf],\n",
       "       [inf],\n",
       "       [inf],\n",
       "       [inf],\n",
       "       [inf],\n",
       "       [inf],\n",
       "       [inf],\n",
       "       [inf],\n",
       "       [inf],\n",
       "       [inf],\n",
       "       [inf],\n",
       "       [inf],\n",
       "       [inf],\n",
       "       [inf],\n",
       "       [inf],\n",
       "       [inf],\n",
       "       [inf],\n",
       "       [inf],\n",
       "       [inf],\n",
       "       [inf],\n",
       "       [inf],\n",
       "       [inf],\n",
       "       [inf],\n",
       "       [inf],\n",
       "       [inf],\n",
       "       [inf],\n",
       "       [inf],\n",
       "       [inf],\n",
       "       [inf],\n",
       "       [inf],\n",
       "       [inf],\n",
       "       [inf],\n",
       "       [inf],\n",
       "       [inf],\n",
       "       [inf],\n",
       "       [inf],\n",
       "       [inf],\n",
       "       [inf],\n",
       "       [inf],\n",
       "       [inf],\n",
       "       [inf],\n",
       "       [inf],\n",
       "       [inf],\n",
       "       [inf],\n",
       "       [inf],\n",
       "       [inf],\n",
       "       [inf],\n",
       "       [inf],\n",
       "       [inf],\n",
       "       [inf],\n",
       "       [inf],\n",
       "       [inf],\n",
       "       [inf],\n",
       "       [inf],\n",
       "       [inf],\n",
       "       [inf],\n",
       "       [inf],\n",
       "       [inf],\n",
       "       [inf],\n",
       "       [inf],\n",
       "       [inf],\n",
       "       [inf],\n",
       "       [inf],\n",
       "       [inf],\n",
       "       [inf],\n",
       "       [inf],\n",
       "       [inf],\n",
       "       [inf],\n",
       "       [inf],\n",
       "       [inf],\n",
       "       [inf],\n",
       "       [inf],\n",
       "       [inf],\n",
       "       [inf],\n",
       "       [inf],\n",
       "       [inf],\n",
       "       [inf],\n",
       "       [inf],\n",
       "       [inf],\n",
       "       [inf],\n",
       "       [inf],\n",
       "       [inf],\n",
       "       [inf],\n",
       "       [inf],\n",
       "       [inf],\n",
       "       [inf],\n",
       "       [inf],\n",
       "       [inf],\n",
       "       [inf],\n",
       "       [inf],\n",
       "       [inf],\n",
       "       [inf],\n",
       "       [inf],\n",
       "       [inf],\n",
       "       [inf],\n",
       "       [inf],\n",
       "       [inf],\n",
       "       [inf],\n",
       "       [inf],\n",
       "       [inf],\n",
       "       [inf],\n",
       "       [inf],\n",
       "       [inf],\n",
       "       [inf],\n",
       "       [inf],\n",
       "       [inf],\n",
       "       [inf],\n",
       "       [inf],\n",
       "       [inf],\n",
       "       [inf],\n",
       "       [inf],\n",
       "       [inf],\n",
       "       [inf],\n",
       "       [inf],\n",
       "       [inf],\n",
       "       [inf],\n",
       "       [inf],\n",
       "       [inf],\n",
       "       [inf],\n",
       "       [inf],\n",
       "       [inf],\n",
       "       [inf],\n",
       "       [inf],\n",
       "       [inf],\n",
       "       [inf],\n",
       "       [inf],\n",
       "       [inf],\n",
       "       [inf],\n",
       "       [inf],\n",
       "       [inf],\n",
       "       [inf],\n",
       "       [inf],\n",
       "       [inf],\n",
       "       [inf],\n",
       "       [inf],\n",
       "       [inf],\n",
       "       [inf],\n",
       "       [inf],\n",
       "       [inf],\n",
       "       [inf],\n",
       "       [inf],\n",
       "       [inf],\n",
       "       [inf],\n",
       "       [inf],\n",
       "       [inf],\n",
       "       [inf],\n",
       "       [inf],\n",
       "       [inf],\n",
       "       [inf],\n",
       "       [inf],\n",
       "       [inf],\n",
       "       [inf],\n",
       "       [inf],\n",
       "       [inf],\n",
       "       [inf],\n",
       "       [inf],\n",
       "       [inf],\n",
       "       [inf],\n",
       "       [inf],\n",
       "       [inf],\n",
       "       [inf],\n",
       "       [inf],\n",
       "       [inf],\n",
       "       [inf],\n",
       "       [inf],\n",
       "       [inf],\n",
       "       [inf],\n",
       "       [inf],\n",
       "       [inf],\n",
       "       [inf],\n",
       "       [inf],\n",
       "       [inf],\n",
       "       [inf],\n",
       "       [inf],\n",
       "       [inf],\n",
       "       [inf],\n",
       "       [inf],\n",
       "       [inf],\n",
       "       [inf],\n",
       "       [inf],\n",
       "       [inf],\n",
       "       [inf],\n",
       "       [inf],\n",
       "       [inf],\n",
       "       [inf],\n",
       "       [inf],\n",
       "       [inf],\n",
       "       [inf],\n",
       "       [inf],\n",
       "       [inf],\n",
       "       [inf],\n",
       "       [inf],\n",
       "       [inf],\n",
       "       [inf],\n",
       "       [inf],\n",
       "       [inf],\n",
       "       [inf],\n",
       "       [inf],\n",
       "       [inf],\n",
       "       [inf],\n",
       "       [inf],\n",
       "       [inf],\n",
       "       [inf],\n",
       "       [inf],\n",
       "       [inf],\n",
       "       [inf],\n",
       "       [inf],\n",
       "       [inf],\n",
       "       [inf],\n",
       "       [inf],\n",
       "       [inf],\n",
       "       [inf],\n",
       "       [inf],\n",
       "       [inf],\n",
       "       [inf],\n",
       "       [inf],\n",
       "       [inf],\n",
       "       [inf],\n",
       "       [inf],\n",
       "       [inf],\n",
       "       [inf],\n",
       "       [inf],\n",
       "       [inf],\n",
       "       [inf],\n",
       "       [inf],\n",
       "       [inf],\n",
       "       [inf],\n",
       "       [inf],\n",
       "       [inf],\n",
       "       [inf],\n",
       "       [inf],\n",
       "       [inf],\n",
       "       [inf],\n",
       "       [inf],\n",
       "       [inf],\n",
       "       [inf],\n",
       "       [inf],\n",
       "       [inf],\n",
       "       [inf],\n",
       "       [inf],\n",
       "       [inf],\n",
       "       [inf],\n",
       "       [inf],\n",
       "       [inf],\n",
       "       [inf],\n",
       "       [inf],\n",
       "       [inf],\n",
       "       [inf],\n",
       "       [inf],\n",
       "       [inf],\n",
       "       [inf],\n",
       "       [inf],\n",
       "       [inf],\n",
       "       [inf],\n",
       "       [inf],\n",
       "       [inf],\n",
       "       [inf],\n",
       "       [inf],\n",
       "       [inf],\n",
       "       [inf],\n",
       "       [inf],\n",
       "       [inf],\n",
       "       [inf],\n",
       "       [inf],\n",
       "       [inf],\n",
       "       [inf],\n",
       "       [inf],\n",
       "       [inf],\n",
       "       [inf],\n",
       "       [inf],\n",
       "       [inf],\n",
       "       [inf],\n",
       "       [inf],\n",
       "       [inf],\n",
       "       [inf],\n",
       "       [inf],\n",
       "       [inf],\n",
       "       [inf],\n",
       "       [inf],\n",
       "       [inf],\n",
       "       [inf],\n",
       "       [inf],\n",
       "       [inf],\n",
       "       [inf],\n",
       "       [inf],\n",
       "       [inf],\n",
       "       [inf],\n",
       "       [inf],\n",
       "       [inf],\n",
       "       [inf],\n",
       "       [inf],\n",
       "       [inf],\n",
       "       [inf],\n",
       "       [inf],\n",
       "       [inf],\n",
       "       [inf],\n",
       "       [inf],\n",
       "       [inf],\n",
       "       [inf],\n",
       "       [inf],\n",
       "       [inf],\n",
       "       [inf],\n",
       "       [inf],\n",
       "       [inf],\n",
       "       [inf],\n",
       "       [inf],\n",
       "       [inf],\n",
       "       [inf],\n",
       "       [inf],\n",
       "       [inf],\n",
       "       [inf],\n",
       "       [inf],\n",
       "       [inf],\n",
       "       [inf],\n",
       "       [inf],\n",
       "       [inf],\n",
       "       [inf],\n",
       "       [inf],\n",
       "       [inf],\n",
       "       [inf],\n",
       "       [inf],\n",
       "       [inf],\n",
       "       [inf],\n",
       "       [inf],\n",
       "       [inf],\n",
       "       [inf],\n",
       "       [inf],\n",
       "       [inf],\n",
       "       [inf],\n",
       "       [inf],\n",
       "       [inf],\n",
       "       [inf],\n",
       "       [inf],\n",
       "       [inf],\n",
       "       [inf],\n",
       "       [inf],\n",
       "       [inf],\n",
       "       [inf],\n",
       "       [inf]])"
      ]
     },
     "execution_count": 33,
     "metadata": {},
     "output_type": "execute_result"
    }
   ],
   "source": [
    "yes_coal"
   ]
  },
  {
   "cell_type": "code",
   "execution_count": 175,
   "id": "dd0b5dee-39cb-4828-9283-5b8cab932df1",
   "metadata": {
    "tags": []
   },
   "outputs": [
    {
     "name": "stderr",
     "output_type": "stream",
     "text": [
      "/tmp/ipykernel_1530211/1183771719.py:1: RuntimeWarning: invalid value encountered in divide\n",
      "  plt.plot(np.log(yes_coal/no_coal).ravel() / ts)\n"
     ]
    },
    {
     "data": {
      "text/plain": [
       "[<matplotlib.lines.Line2D at 0x15276fac79d0>]"
      ]
     },
     "execution_count": 175,
     "metadata": {},
     "output_type": "execute_result"
    },
    {
     "data": {
      "image/png": "[encoded data removed]",
      "text/plain": [
       "<Figure size 640x480 with 1 Axes>"
      ]
     },
     "metadata": {},
     "output_type": "display_data"
    }
   ],
   "source": [
    "plt.plot(np.log(yes_coal/no_coal).ravel() / ts)"
   ]
  },
  {
   "cell_type": "code",
   "execution_count": null,
   "id": "9b02aaf2-d7c0-42e4-a8b3-da65c6f4ced3",
   "metadata": {},
   "outputs": [],
   "source": []
  }
 ],
 "metadata": {
  "kernelspec": {
   "display_name": "dated_selection",
   "language": "python",
   "name": "dated_selection"
  },
  "language_info": {
   "codemirror_mode": {
    "name": "ipython",
    "version": 3
   },
   "file_extension": ".py",
   "mimetype": "text/x-python",
   "name": "python",
   "nbconvert_exporter": "python",
   "pygments_lexer": "ipython3",
   "version": "3.10.10"
  }
 },
 "nbformat": 4,
 "nbformat_minor": 5
}
