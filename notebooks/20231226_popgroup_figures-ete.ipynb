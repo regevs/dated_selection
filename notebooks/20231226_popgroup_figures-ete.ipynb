{
 "cells": [
  {
   "cell_type": "code",
   "execution_count": 1,
   "id": "761dea7f-520c-4d59-af59-676dc3ee65eb",
   "metadata": {
    "tags": []
   },
   "outputs": [],
   "source": [
    "%load_ext autoreload\n",
    "%autoreload 2"
   ]
  },
  {
   "cell_type": "code",
   "execution_count": 2,
   "id": "c24b520c-1619-4eb6-a996-58ae84726aa6",
   "metadata": {
    "tags": []
   },
   "outputs": [],
   "source": [
    "import numpy as np\n",
    "import itertools\n",
    "import scipy.special\n",
    "import os, subprocess, sys\n",
    "from io import StringIO\n",
    "from pathlib import Path\n",
    "import os\n",
    "\n",
    "os.environ['QT_QPA_PLATFORM']='offscreen'\n",
    "import ete3\n",
    "\n",
    "sys.path.append(str(Path(os.getcwd()).parent))"
   ]
  },
  {
   "cell_type": "markdown",
   "id": "ff3b8906-bef5-45a9-874a-ef7f3d46e0ed",
   "metadata": {},
   "source": [
    "# Load tree and write as newick"
   ]
  },
  {
   "cell_type": "code",
   "execution_count": 52,
   "id": "fa93b03e-fa8a-4165-8ec4-c0038dcfb231",
   "metadata": {},
   "outputs": [],
   "source": [
    "T = ete3.Tree(\n",
    "    newick=\"/rds/project/rds-8b3VcZwY7rY/projects/dated_selection/data/neutral_desai_bigger_20231227/seed=6/output.t=0_n=100.newick\",\n",
    "#    newick=\"/rds/project/rds-8b3VcZwY7rY/projects/dated_selection/data/another_desai_20230626/seed=6/output.t=0_n=100.newick\",\n",
    ")"
   ]
  },
  {
   "cell_type": "code",
   "execution_count": 58,
   "id": "dd350352-4e0c-4515-bf5b-f32567870f36",
   "metadata": {},
   "outputs": [
    {
     "data": {
      "image/png": "[encoded data removed]",
      "text/plain": [
       "<IPython.core.display.Image object>"
      ]
     },
     "execution_count": 58,
     "metadata": {},
     "output_type": "execute_result"
    }
   ],
   "source": [
    "ts = ete3.TreeStyle()\n",
    "ts.show_leaf_name = False\n",
    "ts.show_scale = False\n",
    "\n",
    "nstyle = ete3.NodeStyle()\n",
    "nstyle[\"shape\"] = \"sphere\"\n",
    "nstyle[\"size\"] = 0\n",
    "\n",
    "for n in T.traverse():\n",
    "    n.set_style(nstyle)\n",
    "\n",
    "T.render(\"%%inline\", w=400, h=300, units=\"px\", tree_style=ts)  \n"
   ]
  },
  {
   "cell_type": "code",
   "execution_count": null,
   "id": "d8d4c480-bbe1-4ad9-84de-5851691f9eb0",
   "metadata": {},
   "outputs": [],
   "source": []
  }
 ],
 "metadata": {
  "kernelspec": {
   "display_name": "ete3",
   "language": "python",
   "name": "ete3"
  },
  "language_info": {
   "codemirror_mode": {
    "name": "ipython",
    "version": 3
   },
   "file_extension": ".py",
   "mimetype": "text/x-python",
   "name": "python",
   "nbconvert_exporter": "python",
   "pygments_lexer": "ipython3",
   "version": "3.6.13"
  }
 },
 "nbformat": 4,
 "nbformat_minor": 5
}
